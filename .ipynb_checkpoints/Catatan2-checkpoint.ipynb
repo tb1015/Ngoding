{
 "cells": [
  {
   "cell_type": "code",
   "execution_count": 1,
   "id": "15ffdde1",
   "metadata": {},
   "outputs": [
    {
     "data": {
      "text/plain": [
       "4"
      ]
     },
     "execution_count": 1,
     "metadata": {},
     "output_type": "execute_result"
    }
   ],
   "source": [
    "2**2"
   ]
  },
  {
   "cell_type": "code",
   "execution_count": 4,
   "id": "ad774b56",
   "metadata": {},
   "outputs": [],
   "source": [
    "n = 1 + 1.2"
   ]
  },
  {
   "cell_type": "code",
   "execution_count": 5,
   "id": "5dd79aae",
   "metadata": {},
   "outputs": [
    {
     "data": {
      "text/plain": [
       "float"
      ]
     },
     "execution_count": 5,
     "metadata": {},
     "output_type": "execute_result"
    }
   ],
   "source": [
    "type(n)"
   ]
  },
  {
   "cell_type": "code",
   "execution_count": 20,
   "id": "3bcc5d9c",
   "metadata": {},
   "outputs": [],
   "source": [
    "st = \"2.2\""
   ]
  },
  {
   "cell_type": "code",
   "execution_count": 13,
   "id": "20ea304a",
   "metadata": {},
   "outputs": [
    {
     "data": {
      "text/plain": [
       "2"
      ]
     },
     "execution_count": 13,
     "metadata": {},
     "output_type": "execute_result"
    }
   ],
   "source": [
    "int(float(st))"
   ]
  },
  {
   "cell_type": "code",
   "execution_count": 19,
   "id": "4ec09d47",
   "metadata": {},
   "outputs": [],
   "source": [
    "A = [\"a\",\"b\",\"c\"]"
   ]
  },
  {
   "cell_type": "code",
   "execution_count": 21,
   "id": "d2a5ef86",
   "metadata": {},
   "outputs": [],
   "source": [
    "B = ([\"a\",\"b\",\"c\"])"
   ]
  },
  {
   "cell_type": "code",
   "execution_count": 25,
   "id": "b2e70b0d",
   "metadata": {},
   "outputs": [
    {
     "data": {
      "text/plain": [
       "list"
      ]
     },
     "execution_count": 25,
     "metadata": {},
     "output_type": "execute_result"
    }
   ],
   "source": [
    "type(A)"
   ]
  },
  {
   "cell_type": "code",
   "execution_count": 23,
   "id": "b99f7e79",
   "metadata": {},
   "outputs": [
    {
     "data": {
      "text/plain": [
       "list"
      ]
     },
     "execution_count": 23,
     "metadata": {},
     "output_type": "execute_result"
    }
   ],
   "source": [
    "type(B)"
   ]
  },
  {
   "cell_type": "code",
   "execution_count": 24,
   "id": "fa773da3",
   "metadata": {},
   "outputs": [],
   "source": [
    "A = [\"a\",\"b\",2,\"c\"] #list dengan isi berbeda type"
   ]
  },
  {
   "cell_type": "code",
   "execution_count": 28,
   "id": "8e28b42d",
   "metadata": {},
   "outputs": [
    {
     "data": {
      "text/plain": [
       "[2, 'c']"
      ]
     },
     "execution_count": 28,
     "metadata": {},
     "output_type": "execute_result"
    }
   ],
   "source": [
    "A[2:] #mengakses isi list"
   ]
  },
  {
   "cell_type": "code",
   "execution_count": 29,
   "id": "d6374f82",
   "metadata": {},
   "outputs": [
    {
     "data": {
      "text/plain": [
       "'c'"
      ]
     },
     "execution_count": 29,
     "metadata": {},
     "output_type": "execute_result"
    }
   ],
   "source": [
    "A[-1]"
   ]
  },
  {
   "cell_type": "code",
   "execution_count": 30,
   "id": "c04ce561",
   "metadata": {},
   "outputs": [],
   "source": [
    "##Dictionary: daftar data dengan index custom berupa key\n",
    "D = {\"a\": 1, \"b\": 2}"
   ]
  },
  {
   "cell_type": "code",
   "execution_count": 31,
   "id": "ce8e76a3",
   "metadata": {},
   "outputs": [
    {
     "data": {
      "text/plain": [
       "dict"
      ]
     },
     "execution_count": 31,
     "metadata": {},
     "output_type": "execute_result"
    }
   ],
   "source": [
    "type(D)"
   ]
  },
  {
   "cell_type": "code",
   "execution_count": 38,
   "id": "9b9feb93",
   "metadata": {},
   "outputs": [
    {
     "data": {
      "text/plain": [
       "1"
      ]
     },
     "execution_count": 38,
     "metadata": {},
     "output_type": "execute_result"
    }
   ],
   "source": [
    "D[\"a\"] #mengkases dictionary"
   ]
  },
  {
   "cell_type": "code",
   "execution_count": 44,
   "id": "409c213e",
   "metadata": {},
   "outputs": [
    {
     "data": {
      "text/plain": [
       "['a', 'b']"
      ]
     },
     "execution_count": 44,
     "metadata": {},
     "output_type": "execute_result"
    }
   ],
   "source": [
    "list(D.keys()) #mengakses semua keys dan mengubahnya menjadi list"
   ]
  },
  {
   "cell_type": "code",
   "execution_count": 42,
   "id": "5bba5399",
   "metadata": {},
   "outputs": [
    {
     "data": {
      "text/plain": [
       "dict_values([1, 2])"
      ]
     },
     "execution_count": 42,
     "metadata": {},
     "output_type": "execute_result"
    }
   ],
   "source": [
    "D.values() #mengakses semua values"
   ]
  },
  {
   "cell_type": "code",
   "execution_count": 48,
   "id": "4f66f542",
   "metadata": {},
   "outputs": [
    {
     "data": {
      "text/plain": [
       "[1, 2, 3, 4]"
      ]
     },
     "execution_count": 48,
     "metadata": {},
     "output_type": "execute_result"
    }
   ],
   "source": [
    "[1,2] + [3,4] #hasil jumlah: penggabungan"
   ]
  },
  {
   "cell_type": "code",
   "execution_count": 49,
   "id": "b5e25f0e",
   "metadata": {},
   "outputs": [
    {
     "data": {
      "text/plain": [
       "[1, 2, 1, 2, 1, 2]"
      ]
     },
     "execution_count": 49,
     "metadata": {},
     "output_type": "execute_result"
    }
   ],
   "source": [
    "[1,2]*3 #hasil kali list: duplikasi"
   ]
  },
  {
   "cell_type": "code",
   "execution_count": 66,
   "id": "b5e58d54",
   "metadata": {},
   "outputs": [],
   "source": [
    "## SET: list yang dapat digunakan dalam operasi gerbang logika\n",
    "S = set([1,2,\"2\",3])"
   ]
  },
  {
   "cell_type": "code",
   "execution_count": 67,
   "id": "b7627e55",
   "metadata": {},
   "outputs": [
    {
     "data": {
      "text/plain": [
       "set"
      ]
     },
     "execution_count": 67,
     "metadata": {},
     "output_type": "execute_result"
    }
   ],
   "source": [
    "type(S)"
   ]
  },
  {
   "cell_type": "code",
   "execution_count": 61,
   "id": "ac596ec0",
   "metadata": {},
   "outputs": [
    {
     "data": {
      "text/plain": [
       "{1, 2, '2', 3}"
      ]
     },
     "execution_count": 61,
     "metadata": {},
     "output_type": "execute_result"
    }
   ],
   "source": [
    "S"
   ]
  },
  {
   "cell_type": "code",
   "execution_count": 62,
   "id": "cebab672",
   "metadata": {},
   "outputs": [],
   "source": [
    "S1 = set ([2,3,\"3\",4])"
   ]
  },
  {
   "cell_type": "code",
   "execution_count": 68,
   "id": "1a53c3fd",
   "metadata": {},
   "outputs": [
    {
     "data": {
      "text/plain": [
       "{1, 2, '2', 3, '3', 4}"
      ]
     },
     "execution_count": 68,
     "metadata": {},
     "output_type": "execute_result"
    }
   ],
   "source": [
    "S.union(S1) #gerbang logika: S OR S1"
   ]
  },
  {
   "cell_type": "code",
   "execution_count": 70,
   "id": "e5b55282",
   "metadata": {},
   "outputs": [
    {
     "data": {
      "text/plain": [
       "{2, 3}"
      ]
     },
     "execution_count": 70,
     "metadata": {},
     "output_type": "execute_result"
    }
   ],
   "source": [
    "S.intersection(S1) #gerbang logika: S AND S1"
   ]
  },
  {
   "cell_type": "markdown",
   "id": "85603cc6",
   "metadata": {},
   "source": []
  },
  {
   "cell_type": "code",
   "execution_count": 75,
   "id": "751649e0",
   "metadata": {},
   "outputs": [
    {
     "name": "stdout",
     "output_type": "stream",
     "text": [
      "0\n",
      "1\n",
      "2\n"
     ]
    }
   ],
   "source": [
    "## For loop\n",
    "x = [3,2,3]\n",
    "for i,j in enumerate(x):\n",
    "    print(i)"
   ]
  },
  {
   "cell_type": "code",
   "execution_count": 80,
   "id": "f7f6406b",
   "metadata": {},
   "outputs": [
    {
     "name": "stdout",
     "output_type": "stream",
     "text": [
      "0\n",
      "1\n",
      "2\n"
     ]
    }
   ],
   "source": [
    "## For loop\n",
    "x = [3,2,3]\n",
    "for i in range(len(x)): #range itu membuat list dengan angka urut \n",
    "    print(i)"
   ]
  },
  {
   "cell_type": "code",
   "execution_count": 78,
   "id": "7fd9d56d",
   "metadata": {},
   "outputs": [
    {
     "data": {
      "text/plain": [
       "range(0, 3)"
      ]
     },
     "execution_count": 78,
     "metadata": {},
     "output_type": "execute_result"
    }
   ],
   "source": [
    "range(len(x))"
   ]
  },
  {
   "cell_type": "code",
   "execution_count": 79,
   "id": "6a6b3a2f",
   "metadata": {},
   "outputs": [
    {
     "data": {
      "text/plain": [
       "[0, 1, 2]"
      ]
     },
     "execution_count": 79,
     "metadata": {},
     "output_type": "execute_result"
    }
   ],
   "source": [
    "list(range(len(x)))"
   ]
  },
  {
   "cell_type": "code",
   "execution_count": 85,
   "id": "324cc4b5",
   "metadata": {},
   "outputs": [
    {
     "name": "stdout",
     "output_type": "stream",
     "text": [
      "True\n"
     ]
    }
   ],
   "source": [
    "if 1<1:\n",
    "    print(False)\n",
    "elif 1>4:\n",
    "    print(False)\n",
    "else:\n",
    "    print(True)"
   ]
  },
  {
   "cell_type": "code",
   "execution_count": 88,
   "id": "fb70540c",
   "metadata": {},
   "outputs": [
    {
     "data": {
      "text/plain": [
       "True"
      ]
     },
     "execution_count": 88,
     "metadata": {},
     "output_type": "execute_result"
    }
   ],
   "source": [
    "x == x #perbandingan 2 list"
   ]
  },
  {
   "cell_type": "code",
   "execution_count": 94,
   "id": "164269ef",
   "metadata": {},
   "outputs": [
    {
     "name": "stdout",
     "output_type": "stream",
     "text": [
      "1\n",
      "2\n"
     ]
    }
   ],
   "source": [
    "n = 1\n",
    "while n<5:\n",
    "    print(n)\n",
    "    n = n + 1\n",
    "    if n==3:\n",
    "        break"
   ]
  },
  {
   "cell_type": "code",
   "execution_count": 98,
   "id": "21892005",
   "metadata": {},
   "outputs": [
    {
     "name": "stdout",
     "output_type": "stream",
     "text": [
      "unsupported operand type(s) for +: 'int' and 'str'\n"
     ]
    }
   ],
   "source": [
    "## Error catching, try and except\n",
    "try:\n",
    "    print(1+\"1\")\n",
    "    \n",
    "except Exception as e:\n",
    "    print(e)"
   ]
  },
  {
   "cell_type": "code",
   "execution_count": 99,
   "id": "01a90a4b",
   "metadata": {},
   "outputs": [],
   "source": [
    "## Fungsi\n",
    "\n",
    "def fu(var_a, var_b):\n",
    "    return var_a + var_b"
   ]
  },
  {
   "cell_type": "code",
   "execution_count": 100,
   "id": "20a58c45",
   "metadata": {},
   "outputs": [
    {
     "data": {
      "text/plain": [
       "3"
      ]
     },
     "execution_count": 100,
     "metadata": {},
     "output_type": "execute_result"
    }
   ],
   "source": [
    "fu(1,2)"
   ]
  },
  {
   "cell_type": "code",
   "execution_count": 101,
   "id": "e18c3ca1",
   "metadata": {},
   "outputs": [
    {
     "ename": "TypeError",
     "evalue": "fu() missing 1 required positional argument: 'var_b'",
     "output_type": "error",
     "traceback": [
      "\u001b[0;31m---------------------------------------------------------------------------\u001b[0m",
      "\u001b[0;31mTypeError\u001b[0m                                 Traceback (most recent call last)",
      "\u001b[0;32m<ipython-input-101-d67631a438b4>\u001b[0m in \u001b[0;36m<module>\u001b[0;34m\u001b[0m\n\u001b[0;32m----> 1\u001b[0;31m \u001b[0mfu\u001b[0m\u001b[0;34m(\u001b[0m\u001b[0;36m1\u001b[0m\u001b[0;34m)\u001b[0m\u001b[0;34m\u001b[0m\u001b[0;34m\u001b[0m\u001b[0m\n\u001b[0m",
      "\u001b[0;31mTypeError\u001b[0m: fu() missing 1 required positional argument: 'var_b'"
     ]
    }
   ],
   "source": [
    "fu(1)"
   ]
  },
  {
   "cell_type": "code",
   "execution_count": 111,
   "id": "2bcb5950",
   "metadata": {},
   "outputs": [],
   "source": [
    "def fu2(var_a, var_b, var_c=3): #urutan variable/parameter penting/menentukan. Default harus di paling belakang \n",
    "    x = var_a**var_b + var_c\n",
    "    return x"
   ]
  },
  {
   "cell_type": "code",
   "execution_count": 112,
   "id": "255860bc",
   "metadata": {},
   "outputs": [
    {
     "data": {
      "text/plain": [
       "4"
      ]
     },
     "execution_count": 112,
     "metadata": {},
     "output_type": "execute_result"
    }
   ],
   "source": [
    "fu2(1,2)"
   ]
  },
  {
   "cell_type": "code",
   "execution_count": 116,
   "id": "852cce9e",
   "metadata": {},
   "outputs": [],
   "source": [
    "def fu3(var_a=1, var_b=2, var_c=3): #Dengan memberikan default value, urutan parameter bisa random\n",
    "    x = var_a**var_b + var_c\n",
    "    return x"
   ]
  },
  {
   "cell_type": "code",
   "execution_count": 117,
   "id": "ca335401",
   "metadata": {},
   "outputs": [
    {
     "data": {
      "text/plain": [
       "3"
      ]
     },
     "execution_count": 117,
     "metadata": {},
     "output_type": "execute_result"
    }
   ],
   "source": [
    "fu3(var_c=2, var_b=1) "
   ]
  },
  {
   "cell_type": "code",
   "execution_count": 121,
   "id": "f7b405cc",
   "metadata": {},
   "outputs": [],
   "source": [
    "def fu4(var_a=1, var_b=2, var_c=3): #Fungsi dalam fungsi\n",
    "    def f0(var_a0):\n",
    "        return var_a0**2\n",
    "    \n",
    "    x = f0(var_a)+var_b + var_c\n",
    "    return x"
   ]
  },
  {
   "cell_type": "code",
   "execution_count": 123,
   "id": "e2f4cfb8",
   "metadata": {},
   "outputs": [
    {
     "data": {
      "text/plain": [
       "9"
      ]
     },
     "execution_count": 123,
     "metadata": {},
     "output_type": "execute_result"
    }
   ],
   "source": [
    "fu4(2,2,3)"
   ]
  },
  {
   "cell_type": "code",
   "execution_count": 133,
   "id": "077cfba5",
   "metadata": {},
   "outputs": [],
   "source": [
    "def fu5(z, var_a=1, var_b=2, var_c=3): #Fungsi dalam fungsi\n",
    "    \"\"\"\n",
    "    Fungsi 5: variable dengan default value\n",
    "    Input:\n",
    "    Output:\n",
    "    Menguji fungsi di dalam fungsi\n",
    "    \"\"\"\n",
    "    \n",
    "    def f0(var_a0):\n",
    "        \n",
    "        return var_a0**2 + z #variable di luar fungsi\n",
    "    \n",
    "    x = f0(var_a)+var_b + var_c\n",
    "    return x"
   ]
  },
  {
   "cell_type": "code",
   "execution_count": 131,
   "id": "dee82fa5",
   "metadata": {},
   "outputs": [],
   "source": [
    "z = 100"
   ]
  },
  {
   "cell_type": "code",
   "execution_count": 134,
   "id": "1d9d392b",
   "metadata": {},
   "outputs": [
    {
     "data": {
      "text/plain": [
       "7"
      ]
     },
     "execution_count": 134,
     "metadata": {},
     "output_type": "execute_result"
    }
   ],
   "source": [
    "fu5(1,1,2,3)"
   ]
  },
  {
   "cell_type": "code",
   "execution_count": 138,
   "id": "5ee2d149",
   "metadata": {},
   "outputs": [
    {
     "data": {
      "text/plain": [
       "'\\n    Fungsi 5: variable dengan default value\\n    Input:\\n    Output:\\n    Menguji fungsi di dalam fungsi\\n    '"
      ]
     },
     "execution_count": 138,
     "metadata": {},
     "output_type": "execute_result"
    }
   ],
   "source": [
    "fu5.__doc__ #menampilkan keterangan/catatan dalam fungsi"
   ]
  },
  {
   "cell_type": "code",
   "execution_count": 139,
   "id": "31779361",
   "metadata": {},
   "outputs": [],
   "source": [
    "#Setiap fungsi kalau bisa hanya punya 1 konteks, agar mudah"
   ]
  },
  {
   "cell_type": "code",
   "execution_count": null,
   "id": "d185372f",
   "metadata": {},
   "outputs": [],
   "source": []
  }
 ],
 "metadata": {
  "kernelspec": {
   "display_name": "Python 3",
   "language": "python",
   "name": "python3"
  },
  "language_info": {
   "codemirror_mode": {
    "name": "ipython",
    "version": 3
   },
   "file_extension": ".py",
   "mimetype": "text/x-python",
   "name": "python",
   "nbconvert_exporter": "python",
   "pygments_lexer": "ipython3",
   "version": "3.9.6"
  }
 },
 "nbformat": 4,
 "nbformat_minor": 5
}
