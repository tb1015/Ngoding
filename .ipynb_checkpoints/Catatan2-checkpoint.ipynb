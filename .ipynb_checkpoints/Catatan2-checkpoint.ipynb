{
 "cells": [
  {
   "cell_type": "markdown",
   "id": "766d777f-6909-44f1-8855-e25f7e3e88b1",
   "metadata": {},
   "source": [
    "## Tipe Data\n",
    "### Data Numerik"
   ]
  },
  {
   "cell_type": "code",
   "execution_count": 4,
   "id": "15ffdde1",
   "metadata": {},
   "outputs": [
    {
     "data": {
      "text/plain": [
       "4"
      ]
     },
     "execution_count": 4,
     "metadata": {},
     "output_type": "execute_result"
    }
   ],
   "source": [
    "# INTEGER\n",
    "2**2"
   ]
  },
  {
   "cell_type": "code",
   "execution_count": 42,
   "id": "ad774b56",
   "metadata": {},
   "outputs": [],
   "source": [
    "# Penjumlahan INT + FLOAT\n",
    "n = 1 + 1.2"
   ]
  },
  {
   "cell_type": "code",
   "execution_count": 3,
   "id": "5dd79aae",
   "metadata": {},
   "outputs": [
    {
     "data": {
      "text/plain": [
       "float"
      ]
     },
     "execution_count": 3,
     "metadata": {},
     "output_type": "execute_result"
    }
   ],
   "source": [
    "#Check tipe data\n",
    "type(n)"
   ]
  },
  {
   "cell_type": "code",
   "execution_count": 41,
   "id": "3bcc5d9c",
   "metadata": {},
   "outputs": [],
   "source": [
    "# STRING\n",
    "st = \"2.2\""
   ]
  },
  {
   "cell_type": "code",
   "execution_count": 8,
   "id": "20ea304a",
   "metadata": {},
   "outputs": [
    {
     "data": {
      "text/plain": [
       "2"
      ]
     },
     "execution_count": 8,
     "metadata": {},
     "output_type": "execute_result"
    }
   ],
   "source": [
    "# String diubah menjadi int\n",
    "int(float(st))"
   ]
  },
  {
   "cell_type": "markdown",
   "id": "5f50968f-7255-4bbc-abd2-d6cc07042359",
   "metadata": {},
   "source": [
    "### Struktur Data pada Python\n",
    "sumber: \n",
    "- https://corporatefinanceinstitute.com/resources/knowledge/other/python-data-structures/\n",
    "- https://docs.python.org/3/tutorial/datastructures.html\n",
    "\n",
    "The basic data structures in Python: List, Set, Tuples, and Dictionary.\n",
    "The data structures are \"containers\" that organize and group data according type. \n",
    "\n",
    "The data structures differ based on __*mutability*__ and __*order*__. \n",
    "Mutability: the ability to change an object after its creation, e.g. to edit/modify, add, or delete. Order: whether the position of an element can be used to access the element."
   ]
  },
  {
   "cell_type": "markdown",
   "id": "06fa9110-f749-4759-9721-818aa866297a",
   "metadata": {},
   "source": [
    "#### List\n",
    "- A list is defined as an *ordered collection* of items. The term \"ordered collections\" means that each item in a list comes with an order that uniquely identifies them. The order of elements is an constant unique ID of the elements.\n",
    "\n",
    "- Since everything in Python is considered an object, creating a list is essentially creating a Python object of a specific type. \n",
    "Code: ```List_A = [element 1, element 2, ..., element 3]```\n",
    "\n",
    "- A list can be nested, which means that it can contain any type of object. It can include another list or a sublist - which can subesquently contain other sublists itself. An example of a nested list: \n",
    "```List_A = [element 1, List_B, element 3, ..., element n]```\n",
    "\n",
    "- List are mutable, which means, a list can be modified (search, add, shift, move and delete elements) after being created. "
   ]
  },
  {
   "cell_type": "code",
   "execution_count": 8,
   "id": "4ec09d47",
   "metadata": {},
   "outputs": [
    {
     "data": {
      "text/plain": [
       "(list, list)"
      ]
     },
     "execution_count": 8,
     "metadata": {},
     "output_type": "execute_result"
    }
   ],
   "source": [
    "# LIST \n",
    "A = [\"a\",\"b\",\"c\"]\n",
    "B = ([\"a\",\"b\",\"c\"])\n",
    "type(A),type(B)"
   ]
  },
  {
   "cell_type": "code",
   "execution_count": 18,
   "id": "c89f708d-bcdc-492b-abb9-3781839e9fc3",
   "metadata": {},
   "outputs": [
    {
     "name": "stdout",
     "output_type": "stream",
     "text": [
      "b\n",
      "[2, 'c']\n",
      "c\n"
     ]
    }
   ],
   "source": [
    "#List dengan isi berbeda type\n",
    "A = [\"a\",\"b\",2,\"c\"]\n",
    "\n",
    "# Mengakses isi list\n",
    "print(A[1]) # elemen dengan index/nomor urut 1\n",
    "print(A[2:]) # elemen dengan index 2 hingga akhir\n",
    "print(A[-1]) # elemen dengan index terakhir"
   ]
  },
  {
   "cell_type": "code",
   "execution_count": 23,
   "id": "de4c104f-8fb3-440d-a6b9-cad1ace0993e",
   "metadata": {},
   "outputs": [
    {
     "data": {
      "text/plain": [
       "[1, 2, 3, 4]"
      ]
     },
     "execution_count": 23,
     "metadata": {},
     "output_type": "execute_result"
    }
   ],
   "source": [
    "# LIST: Hasil penjumlahan list adalah penggabungan list\n",
    "[1,2] + [3,4]"
   ]
  },
  {
   "cell_type": "code",
   "execution_count": 54,
   "id": "db5587fe-3b8d-403c-84b7-0f1e9aa20323",
   "metadata": {},
   "outputs": [
    {
     "data": {
      "text/plain": [
       "[1, 2, 1, 2, 1, 2]"
      ]
     },
     "execution_count": 54,
     "metadata": {},
     "output_type": "execute_result"
    }
   ],
   "source": [
    "# LIST: Hasil perkalian list: duplikasi list\n",
    "[1,2]*3"
   ]
  },
  {
   "cell_type": "markdown",
   "id": "aab8c176-8923-4510-a42f-f03eebb5baad",
   "metadata": {},
   "source": [
    "#### Tuple\n",
    "- A tuple is a built-in data structure in Python that is an ordered collection of objects. Unlike list, tuple has limited functionality.\n",
    "- Tuple is immutable, whereas list is mutable.\n",
    "- Code: ```tuple_A = (item 1, item 2, ..., item n)```\n",
    "- Empty tuple: ```empty_tuple = ( )```\n",
    "- One single item Tuple: ```single_tuple = (item 1,)```\n",
    "- Why tuple instead of list? Tuples are preferred when user does not want the data to be modified. Tuples use less memory and make program execution faster than using lists. Using lists is slower because every time a new execution is done with lists, new objects are created, and the objects are not interpreted just once. Tuple are identified by Python as an immutable object, which is a single entity."
   ]
  },
  {
   "cell_type": "code",
   "execution_count": 6,
   "id": "b2e70b0d",
   "metadata": {},
   "outputs": [
    {
     "data": {
      "text/plain": [
       "tuple"
      ]
     },
     "execution_count": 6,
     "metadata": {},
     "output_type": "execute_result"
    }
   ],
   "source": [
    "# TUPLE\n",
    "tuple_A = (1, 2 ,3, 4)\n",
    "type(tuple_A)"
   ]
  },
  {
   "cell_type": "code",
   "execution_count": 11,
   "id": "0350e42e-6e3d-4d59-8377-999805ce8b7c",
   "metadata": {},
   "outputs": [
    {
     "data": {
      "text/plain": [
       "tuple"
      ]
     },
     "execution_count": 11,
     "metadata": {},
     "output_type": "execute_result"
    }
   ],
   "source": [
    "type((type(A), type(B), type(tuple_A)))"
   ]
  },
  {
   "cell_type": "markdown",
   "id": "79e12abf-ec0d-4c29-8228-2045037855c2",
   "metadata": {
    "tags": []
   },
   "source": [
    "#### Sets\n",
    "- A set is a unique collection of unique elements, that do not follow a specific order.\n",
    "- Sets are used when the existence of an object in a collection of objects is more important than the number of times it appears or the order of the objects.\n",
    "- Sets are mutable.\n",
    "- Code: ```set_a = {\"item 1\", \"item 2\", ...,\"item n\"}```\n",
    "- Use: checking wether or not some elements are contained in a set or not."
   ]
  },
  {
   "cell_type": "code",
   "execution_count": 22,
   "id": "d6374f82",
   "metadata": {},
   "outputs": [
    {
     "name": "stdout",
     "output_type": "stream",
     "text": [
      "{'A', 2, 3}\n"
     ]
    },
    {
     "data": {
      "text/plain": [
       "set"
      ]
     },
     "execution_count": 22,
     "metadata": {},
     "output_type": "execute_result"
    }
   ],
   "source": [
    "set_a = {\"A\", 2, 3}\n",
    "print (set_a)\n",
    "type(set_a)"
   ]
  },
  {
   "cell_type": "code",
   "execution_count": 24,
   "id": "11706e52-b5f0-4900-b8ae-cd7347e9e938",
   "metadata": {},
   "outputs": [
    {
     "name": "stdout",
     "output_type": "stream",
     "text": [
      "{'2', 1, 2, 3}\n",
      "<class 'set'>\n"
     ]
    }
   ],
   "source": [
    "## SET dapat digunakan dalam persamaan logika. Operasi gerbang logika: OR, AND, NOR, NAND\n",
    "S = set([1,2,\"2\",3])\n",
    "print(S)\n",
    "print(type(S))"
   ]
  },
  {
   "cell_type": "code",
   "execution_count": 25,
   "id": "88c04dc6-c2de-4179-bf1f-28ac07c8c989",
   "metadata": {},
   "outputs": [
    {
     "data": {
      "text/plain": [
       "{1, '2', 2, 3, '3', 4}"
      ]
     },
     "execution_count": 25,
     "metadata": {},
     "output_type": "execute_result"
    }
   ],
   "source": [
    "# Gerbang logika OR: S OR S1\n",
    "S1 = set ([2,3,\"3\",4])\n",
    "S.union(S1) "
   ]
  },
  {
   "cell_type": "code",
   "execution_count": 26,
   "id": "e28fa462-89e9-4575-9679-b27041a651e9",
   "metadata": {},
   "outputs": [
    {
     "data": {
      "text/plain": [
       "{2, 3}"
      ]
     },
     "execution_count": 26,
     "metadata": {},
     "output_type": "execute_result"
    }
   ],
   "source": [
    "# Gerbang logika AND: S AND S1\n",
    "S.intersection(S1) "
   ]
  },
  {
   "cell_type": "markdown",
   "id": "98da6d2d-7160-4f1e-8560-e0dff8fd301d",
   "metadata": {
    "tags": []
   },
   "source": [
    "#### Dictionary\n",
    "- Sometimes, dictionary is found in other languages as \"associative memories\" or \"associative arrays\".\n",
    "- Dictionaries are indexed by keys, which can be any immutable type; string, numbers.\n",
    "- Tuples can be used as keys if they contain only strings, numbers or tuples. If a tuple contains any mutable object either directly or indirectly, it cannot be used as a key.\n",
    "- further reading: https://docs.python.org/3/tutorial/datastructures.html\n",
    "- Dictionary is *key*:*value* pairs, with unique keys. "
   ]
  },
  {
   "cell_type": "code",
   "execution_count": 46,
   "id": "c04ce561",
   "metadata": {},
   "outputs": [],
   "source": [
    "# DICTIONARY: daftar data dengan index custom berupa key\n",
    "D = {\"a\": 1, \"b\": 2}"
   ]
  },
  {
   "cell_type": "code",
   "execution_count": 47,
   "id": "ce8e76a3",
   "metadata": {},
   "outputs": [
    {
     "data": {
      "text/plain": [
       "dict"
      ]
     },
     "execution_count": 47,
     "metadata": {},
     "output_type": "execute_result"
    }
   ],
   "source": [
    "type(D)"
   ]
  },
  {
   "cell_type": "code",
   "execution_count": 49,
   "id": "9b9feb93",
   "metadata": {},
   "outputs": [
    {
     "data": {
      "text/plain": [
       "1"
      ]
     },
     "execution_count": 49,
     "metadata": {},
     "output_type": "execute_result"
    }
   ],
   "source": [
    "# DICTIONARY: mengkases data dengan key index tertentu\n",
    "D[\"a\"]"
   ]
  },
  {
   "cell_type": "code",
   "execution_count": 50,
   "id": "409c213e",
   "metadata": {},
   "outputs": [
    {
     "data": {
      "text/plain": [
       "['a', 'b']"
      ]
     },
     "execution_count": 50,
     "metadata": {},
     "output_type": "execute_result"
    }
   ],
   "source": [
    "# DICTIONARY: mengakses semua keys dan mengubahnya menjadi list\n",
    "list(D.keys())"
   ]
  },
  {
   "cell_type": "code",
   "execution_count": 42,
   "id": "5bba5399",
   "metadata": {},
   "outputs": [
    {
     "data": {
      "text/plain": [
       "dict_values([1, 2])"
      ]
     },
     "execution_count": 42,
     "metadata": {},
     "output_type": "execute_result"
    }
   ],
   "source": [
    "# DICTIONARY: mengakses semua values\n",
    "D.values()"
   ]
  },
  {
   "cell_type": "markdown",
   "id": "3c005886-a1a3-4c83-87c3-e9a37c7ac5a3",
   "metadata": {},
   "source": [
    "#### Looping"
   ]
  },
  {
   "cell_type": "code",
   "execution_count": 57,
   "id": "751649e0",
   "metadata": {},
   "outputs": [
    {
     "name": "stdout",
     "output_type": "stream",
     "text": [
      "0\n",
      "1\n",
      "2\n"
     ]
    }
   ],
   "source": [
    "# For Loop\n",
    "x = [3,2,3]\n",
    "for i,j in enumerate(x):\n",
    "    print(i)"
   ]
  },
  {
   "cell_type": "code",
   "execution_count": 58,
   "id": "f7f6406b",
   "metadata": {},
   "outputs": [
    {
     "name": "stdout",
     "output_type": "stream",
     "text": [
      "0\n",
      "1\n",
      "2\n"
     ]
    }
   ],
   "source": [
    "# For Loop\n",
    "x = [3,2,3]\n",
    "for i in range(len(x)): #range itu membuat list dengan angka urut \n",
    "    print(i)"
   ]
  },
  {
   "cell_type": "code",
   "execution_count": 64,
   "id": "7fd9d56d",
   "metadata": {},
   "outputs": [
    {
     "name": "stdout",
     "output_type": "stream",
     "text": [
      "range(0, 3)\n"
     ]
    }
   ],
   "source": [
    "# Fungsi range: Membuat list dengan nomor berurutan \n",
    "print(range(len(x)))"
   ]
  },
  {
   "cell_type": "code",
   "execution_count": 63,
   "id": "6a6b3a2f",
   "metadata": {},
   "outputs": [
    {
     "data": {
      "text/plain": [
       "[0, 1, 2]"
      ]
     },
     "execution_count": 63,
     "metadata": {},
     "output_type": "execute_result"
    }
   ],
   "source": [
    "list(range(len(x)))"
   ]
  },
  {
   "cell_type": "code",
   "execution_count": 65,
   "id": "324cc4b5",
   "metadata": {},
   "outputs": [
    {
     "name": "stdout",
     "output_type": "stream",
     "text": [
      "True\n"
     ]
    }
   ],
   "source": [
    "# KONDISIONAL IF ELSE\n",
    "if 1<1:\n",
    "    print(False)\n",
    "elif 1>4:\n",
    "    print(False)\n",
    "else:\n",
    "    print(True)"
   ]
  },
  {
   "cell_type": "code",
   "execution_count": 66,
   "id": "fb70540c",
   "metadata": {},
   "outputs": [
    {
     "data": {
      "text/plain": [
       "True"
      ]
     },
     "execution_count": 66,
     "metadata": {},
     "output_type": "execute_result"
    }
   ],
   "source": [
    "# Perbandingan 2 list\n",
    "x == x "
   ]
  },
  {
   "cell_type": "code",
   "execution_count": 67,
   "id": "164269ef",
   "metadata": {},
   "outputs": [
    {
     "name": "stdout",
     "output_type": "stream",
     "text": [
      "1\n",
      "2\n"
     ]
    }
   ],
   "source": [
    "# WHILE LOOP\n",
    "n = 1\n",
    "while n<5: # Selama n<5 adalah benar, maka lakukan:\n",
    "    print(n)\n",
    "    n = n + 1\n",
    "    if n==3:\n",
    "        break # BREAK: Keluar dari loop"
   ]
  },
  {
   "cell_type": "markdown",
   "id": "4067ec85-aabb-4b83-8402-3bd07e2b384b",
   "metadata": {},
   "source": [
    "#### Error Cathcing: Try and Except"
   ]
  },
  {
   "cell_type": "code",
   "execution_count": 69,
   "id": "21892005",
   "metadata": {},
   "outputs": [
    {
     "name": "stdout",
     "output_type": "stream",
     "text": [
      "unsupported operand type(s) for +: 'int' and 'str'\n"
     ]
    }
   ],
   "source": [
    "# Error Catching: Try and Except\n",
    "try:\n",
    "    print(1+\"1\")\n",
    "    \n",
    "except Exception as e: # Exception: untuk menampilkan pesan error\n",
    "    print(e)"
   ]
  },
  {
   "cell_type": "markdown",
   "id": "ff038ab3-4c53-4f62-85bc-a25469c48968",
   "metadata": {},
   "source": [
    "#### Fungsi"
   ]
  },
  {
   "cell_type": "code",
   "execution_count": 70,
   "id": "01a90a4b",
   "metadata": {},
   "outputs": [],
   "source": [
    "# FUNGSI: def fungsi(parameters) --> mendefinisikan fungsi\n",
    "\n",
    "def fu(var_a, var_b):\n",
    "    return var_a + var_b"
   ]
  },
  {
   "cell_type": "code",
   "execution_count": 100,
   "id": "20a58c45",
   "metadata": {},
   "outputs": [
    {
     "data": {
      "text/plain": [
       "3"
      ]
     },
     "execution_count": 100,
     "metadata": {},
     "output_type": "execute_result"
    }
   ],
   "source": [
    "fu(1,2)"
   ]
  },
  {
   "cell_type": "code",
   "execution_count": 101,
   "id": "e18c3ca1",
   "metadata": {},
   "outputs": [
    {
     "ename": "TypeError",
     "evalue": "fu() missing 1 required positional argument: 'var_b'",
     "output_type": "error",
     "traceback": [
      "\u001b[0;31m---------------------------------------------------------------------------\u001b[0m",
      "\u001b[0;31mTypeError\u001b[0m                                 Traceback (most recent call last)",
      "\u001b[0;32m<ipython-input-101-d67631a438b4>\u001b[0m in \u001b[0;36m<module>\u001b[0;34m\u001b[0m\n\u001b[0;32m----> 1\u001b[0;31m \u001b[0mfu\u001b[0m\u001b[0;34m(\u001b[0m\u001b[0;36m1\u001b[0m\u001b[0;34m)\u001b[0m\u001b[0;34m\u001b[0m\u001b[0;34m\u001b[0m\u001b[0m\n\u001b[0m",
      "\u001b[0;31mTypeError\u001b[0m: fu() missing 1 required positional argument: 'var_b'"
     ]
    }
   ],
   "source": [
    "fu(1) #Parameter harus diisi lengkap, kecuali ada nilai default nya"
   ]
  },
  {
   "cell_type": "code",
   "execution_count": 73,
   "id": "2bcb5950",
   "metadata": {},
   "outputs": [],
   "source": [
    "def fu2(var_a, var_b, var_c=3): #Parameter dengan nilai default harus distate paling belakang. Urutan parameter: variable tanpa nilai default, variable dengan nilai default. \n",
    "    x = var_a**var_b + var_c\n",
    "    return x"
   ]
  },
  {
   "cell_type": "code",
   "execution_count": 74,
   "id": "255860bc",
   "metadata": {},
   "outputs": [
    {
     "data": {
      "text/plain": [
       "4"
      ]
     },
     "execution_count": 74,
     "metadata": {},
     "output_type": "execute_result"
    }
   ],
   "source": [
    "fu2(1,2)"
   ]
  },
  {
   "cell_type": "code",
   "execution_count": 116,
   "id": "852cce9e",
   "metadata": {},
   "outputs": [],
   "source": [
    "def fu3(var_a=1, var_b=2, var_c=3): #Dengan memberikan default value, urutan parameter bisa random\n",
    "    x = var_a**var_b + var_c\n",
    "    return x"
   ]
  },
  {
   "cell_type": "code",
   "execution_count": 117,
   "id": "ca335401",
   "metadata": {},
   "outputs": [
    {
     "data": {
      "text/plain": [
       "3"
      ]
     },
     "execution_count": 117,
     "metadata": {},
     "output_type": "execute_result"
    }
   ],
   "source": [
    "fu3(var_c=2, var_b=1) "
   ]
  },
  {
   "cell_type": "code",
   "execution_count": 75,
   "id": "f7b405cc",
   "metadata": {},
   "outputs": [],
   "source": [
    "# Membuat fungsi di dalam fungsi\n",
    "\n",
    "def fu4(var_a=1, var_b=2, var_c=3):\n",
    "    def f0(var_a0):\n",
    "        return var_a0**2\n",
    "    \n",
    "    x = f0(var_a)+var_b + var_c\n",
    "    return x"
   ]
  },
  {
   "cell_type": "code",
   "execution_count": 123,
   "id": "e2f4cfb8",
   "metadata": {},
   "outputs": [
    {
     "data": {
      "text/plain": [
       "9"
      ]
     },
     "execution_count": 123,
     "metadata": {},
     "output_type": "execute_result"
    }
   ],
   "source": [
    "fu4(2,2,3)"
   ]
  },
  {
   "cell_type": "code",
   "execution_count": 54,
   "id": "077cfba5",
   "metadata": {},
   "outputs": [],
   "source": [
    "#### Variable di luar dan di dalam fungsi\n",
    "\n",
    "def fu5(z, var_a=1, var_b=2, var_c=3): #Fungsi dalam fungsi\n",
    "    \"\"\"Fungsi 5: fungsi dengan input parameter yang memiliki default value.\n",
    "    Input: z, var_a, var_b, var_c\n",
    "    Output: \n",
    "    Menguji fungsi di dalam fungsi\n",
    "    \"\"\"\n",
    "    \n",
    "    def f0(var_a0):\n",
    "        \n",
    "        return var_a0**2 + z #variable di luar fungsi\n",
    "    \n",
    "    x = f0(var_a)+var_b + var_c\n",
    "    return x"
   ]
  },
  {
   "cell_type": "code",
   "execution_count": 55,
   "id": "dee82fa5",
   "metadata": {},
   "outputs": [],
   "source": [
    "z = 100"
   ]
  },
  {
   "cell_type": "code",
   "execution_count": 56,
   "id": "1d9d392b",
   "metadata": {},
   "outputs": [
    {
     "data": {
      "text/plain": [
       "7"
      ]
     },
     "execution_count": 56,
     "metadata": {},
     "output_type": "execute_result"
    }
   ],
   "source": [
    "fu5(1,1,2,3)\n",
    "\n",
    "# Catatan: \n",
    "## fungsi dengan variable luar/global secara teknis bisa berjalan. Namun nilai variable ini akan bergantung pada variable di luar fungsi. \n",
    "## Bila nilai variable global tsb berubah, maka fungsi juga akan berubah "
   ]
  },
  {
   "cell_type": "code",
   "execution_count": 57,
   "id": "5ee2d149",
   "metadata": {},
   "outputs": [
    {
     "data": {
      "text/plain": [
       "'Fungsi 5: fungsi dengan input parameter yang memiliki default value.\\n    Input: z, var_a, var_b, var_c\\n    Output: \\n    Menguji fungsi di dalam fungsi\\n    '"
      ]
     },
     "execution_count": 57,
     "metadata": {},
     "output_type": "execute_result"
    }
   ],
   "source": [
    "# Menampilkan keterangan/catatan dalam fungsi\n",
    "fu5.__doc__"
   ]
  },
  {
   "cell_type": "markdown",
   "id": "f8f75bb5-194b-4055-bdd2-85fc3593d65b",
   "metadata": {},
   "source": [
    "### Catatan: \n",
    "- Setiap fungsi sebaiknya hanya punya 1 konteks/fungsi, agar mudah modifikasi dan debuging\n",
    "- Fungsi dengan variable luar/global secara teknis bisa berjalan. Namun nilai variable ini akan bergantung pada variable di luar fungsi. Bila nilai variable global tsb berubah, maka fungsi juga akan berubah \n",
    "- Mengakses variable dalam fungsi: https://www.kite.com/python/answers/how-to-access-a-variable-outside-of-a-function-in-python\n",
    "    - code: ```function_name.variable``` \n"
   ]
  },
  {
   "cell_type": "code",
   "execution_count": 58,
   "id": "7cb29a05-7d80-4eff-b01d-6e20ab2426b4",
   "metadata": {},
   "outputs": [],
   "source": [
    "def lingkaran(d,unit=\"m\"):\n",
    "    \"\"\"Fungsi lingkaran() adalah sebuah fungsi untuk menghitung luas dan keliling lingkaran dengan input diameter\"\"\"\n",
    "    lingkaran.phi = 22/7 # Function variable\n",
    "    lingkaran.dec = 2\n",
    "    def luas():\n",
    "        return round(lingkaran.phi*d**2/4,lingkaran.dec)\n",
    "    \n",
    "    def keliling():\n",
    "        return round(lingkaran.phi*d,lingkaran.dec)\n",
    "    \n",
    "    print(\"Luas = \"+str(luas())+\" \"+unit+\"², Keliling = \"+str(keliling())+\" \"+unit)\n",
    "    "
   ]
  },
  {
   "cell_type": "code",
   "execution_count": 60,
   "id": "d1242cd8-e7f0-49e9-a69a-a415a5269c37",
   "metadata": {},
   "outputs": [
    {
     "name": "stdout",
     "output_type": "stream",
     "text": [
      "Luas = 3.14 m², Keliling = 6.29 m\n",
      "phi = 3.142857142857143\n"
     ]
    }
   ],
   "source": [
    "lingkaran(2)\n",
    "print(\"phi = \"+str(lingkaran.phi)) # mengakses variable fungsi"
   ]
  },
  {
   "cell_type": "code",
   "execution_count": 30,
   "id": "ce1a16bd-5495-495c-ab7d-894cb7f2ce10",
   "metadata": {},
   "outputs": [
    {
     "name": "stdout",
     "output_type": "stream",
     "text": [
      "Fungsi lingkaran() adalah sebuah fungsi untuk menghitung luas dan keliling lingkaran dengan input diameter\n"
     ]
    }
   ],
   "source": [
    "print(lingkaran.__doc__)"
   ]
  },
  {
   "cell_type": "markdown",
   "id": "f7fc14a7-cae2-42da-9947-d7e024a01188",
   "metadata": {},
   "source": [
    "#### Modules\n",
    "\n",
    "- sumber: https://docs.python.org/3/tutorial/modules.html\n",
    "- Contoh implementasi: cd Ngoding/Modules/, files Ukuran_ruang.py"
   ]
  },
  {
   "cell_type": "code",
   "execution_count": null,
   "id": "0ae0a379-4972-4c8f-a2c4-e2b147568020",
   "metadata": {},
   "outputs": [],
   "source": []
  },
  {
   "cell_type": "code",
   "execution_count": null,
   "id": "d6afe6ac-fb88-4499-81f0-daed7f710fb5",
   "metadata": {},
   "outputs": [],
   "source": []
  }
 ],
 "metadata": {
  "kernelspec": {
   "display_name": "Python 3",
   "language": "python",
   "name": "python3"
  },
  "language_info": {
   "codemirror_mode": {
    "name": "ipython",
    "version": 3
   },
   "file_extension": ".py",
   "mimetype": "text/x-python",
   "name": "python",
   "nbconvert_exporter": "python",
   "pygments_lexer": "ipython3",
   "version": "3.9.6"
  }
 },
 "nbformat": 4,
 "nbformat_minor": 5
}
