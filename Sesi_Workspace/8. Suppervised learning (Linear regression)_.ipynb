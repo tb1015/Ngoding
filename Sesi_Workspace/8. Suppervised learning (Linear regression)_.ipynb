{
 "cells": [
  {
   "cell_type": "code",
   "execution_count": 4,
   "id": "242edf9b",
   "metadata": {},
   "outputs": [],
   "source": [
    "# Supervised learning\n",
    "# guid --> target\n",
    "\n",
    "# data --->            apa? \n",
    "# warna    bentuk      target\n",
    "# kurning  bulat       jeruk 0\n",
    "# merah.   lonceng.    jambu 1\n",
    "# kuning.  panjang.    pisang 2\n",
    "\n",
    "# Regression [value dari target continue: Real]\n",
    "#     - linear regression y = m*x + c\n",
    "#     - nonlinear regresssion = selain itu y = x^2\n",
    "\n",
    "# Classification [value dari target diskrit: Natural]\n",
    "#     tanggal_beli ----> panjang_pensil\n",
    "#     tahun_belajar ---> jumlan_pensil_yang_dibeli"
   ]
  },
  {
   "cell_type": "code",
   "execution_count": 5,
   "id": "66f53ef0",
   "metadata": {},
   "outputs": [],
   "source": [
    "# Linear regression --> y = m*x + c\n",
    "# yang dicari m dan c\n",
    "# y: target\n",
    "# x: input\n",
    "# evaluasi: RMSE (Root Mean Square Error)"
   ]
  },
  {
   "cell_type": "code",
   "execution_count": 6,
   "id": "d8ddf4f9",
   "metadata": {},
   "outputs": [
    {
     "name": "stdout",
     "output_type": "stream",
     "text": [
      "target_name:  {'virginica', 'versicolor', 'setosa'}\n"
     ]
    },
    {
     "data": {
      "text/html": [
       "<div>\n",
       "<style scoped>\n",
       "    .dataframe tbody tr th:only-of-type {\n",
       "        vertical-align: middle;\n",
       "    }\n",
       "\n",
       "    .dataframe tbody tr th {\n",
       "        vertical-align: top;\n",
       "    }\n",
       "\n",
       "    .dataframe thead th {\n",
       "        text-align: right;\n",
       "    }\n",
       "</style>\n",
       "<table border=\"1\" class=\"dataframe\">\n",
       "  <thead>\n",
       "    <tr style=\"text-align: right;\">\n",
       "      <th></th>\n",
       "      <th>sepal length</th>\n",
       "      <th>sepal width</th>\n",
       "      <th>petal length</th>\n",
       "      <th>petal width</th>\n",
       "      <th>target</th>\n",
       "      <th>target_int</th>\n",
       "    </tr>\n",
       "  </thead>\n",
       "  <tbody>\n",
       "    <tr>\n",
       "      <th>145</th>\n",
       "      <td>6.7</td>\n",
       "      <td>3.0</td>\n",
       "      <td>5.2</td>\n",
       "      <td>2.3</td>\n",
       "      <td>virginica</td>\n",
       "      <td>2</td>\n",
       "    </tr>\n",
       "    <tr>\n",
       "      <th>146</th>\n",
       "      <td>6.3</td>\n",
       "      <td>2.5</td>\n",
       "      <td>5.0</td>\n",
       "      <td>1.9</td>\n",
       "      <td>virginica</td>\n",
       "      <td>2</td>\n",
       "    </tr>\n",
       "    <tr>\n",
       "      <th>147</th>\n",
       "      <td>6.5</td>\n",
       "      <td>3.0</td>\n",
       "      <td>5.2</td>\n",
       "      <td>2.0</td>\n",
       "      <td>virginica</td>\n",
       "      <td>2</td>\n",
       "    </tr>\n",
       "    <tr>\n",
       "      <th>148</th>\n",
       "      <td>6.2</td>\n",
       "      <td>3.4</td>\n",
       "      <td>5.4</td>\n",
       "      <td>2.3</td>\n",
       "      <td>virginica</td>\n",
       "      <td>2</td>\n",
       "    </tr>\n",
       "    <tr>\n",
       "      <th>149</th>\n",
       "      <td>5.9</td>\n",
       "      <td>3.0</td>\n",
       "      <td>5.1</td>\n",
       "      <td>1.8</td>\n",
       "      <td>virginica</td>\n",
       "      <td>2</td>\n",
       "    </tr>\n",
       "  </tbody>\n",
       "</table>\n",
       "</div>"
      ],
      "text/plain": [
       "     sepal length  sepal width  petal length  petal width     target  \\\n",
       "145           6.7          3.0           5.2          2.3  virginica   \n",
       "146           6.3          2.5           5.0          1.9  virginica   \n",
       "147           6.5          3.0           5.2          2.0  virginica   \n",
       "148           6.2          3.4           5.4          2.3  virginica   \n",
       "149           5.9          3.0           5.1          1.8  virginica   \n",
       "\n",
       "     target_int  \n",
       "145           2  \n",
       "146           2  \n",
       "147           2  \n",
       "148           2  \n",
       "149           2  "
      ]
     },
     "execution_count": 6,
     "metadata": {},
     "output_type": "execute_result"
    }
   ],
   "source": [
    "from sklearn import datasets\n",
    "import pandas as pd\n",
    "import numpy as np\n",
    "\n",
    "def get_df_with_string():\n",
    "    cols = ['sepal length', \n",
    "           'sepal width',\n",
    "           'petal length',\n",
    "           'petal width']\n",
    "    iris = datasets.load_iris()\n",
    "    target_dict = {\n",
    "        0: 'setosa',\n",
    "        1: 'versicolor',\n",
    "        2: 'virginica'\n",
    "    }\n",
    "    target = iris.target\n",
    "    new_target = []\n",
    "    for t in target:\n",
    "        new_target.append(target_dict[t])\n",
    "    print(\"target_name: \", set(new_target))\n",
    "    df = pd.DataFrame(iris.data)\n",
    "    df.columns = cols\n",
    "    df['target'] = new_target\n",
    "    df['target_int'] = target\n",
    "    return df\n",
    "\n",
    "data = get_df_with_string()\n",
    "data.tail()"
   ]
  },
  {
   "cell_type": "code",
   "execution_count": 7,
   "id": "e87d68dd",
   "metadata": {},
   "outputs": [
    {
     "data": {
      "text/html": [
       "<div>\n",
       "<style scoped>\n",
       "    .dataframe tbody tr th:only-of-type {\n",
       "        vertical-align: middle;\n",
       "    }\n",
       "\n",
       "    .dataframe tbody tr th {\n",
       "        vertical-align: top;\n",
       "    }\n",
       "\n",
       "    .dataframe thead th {\n",
       "        text-align: right;\n",
       "    }\n",
       "</style>\n",
       "<table border=\"1\" class=\"dataframe\">\n",
       "  <thead>\n",
       "    <tr style=\"text-align: right;\">\n",
       "      <th></th>\n",
       "      <th>petal length</th>\n",
       "      <th>petal width</th>\n",
       "    </tr>\n",
       "  </thead>\n",
       "  <tbody>\n",
       "    <tr>\n",
       "      <th>0</th>\n",
       "      <td>1.4</td>\n",
       "      <td>0.2</td>\n",
       "    </tr>\n",
       "    <tr>\n",
       "      <th>1</th>\n",
       "      <td>1.4</td>\n",
       "      <td>0.2</td>\n",
       "    </tr>\n",
       "    <tr>\n",
       "      <th>2</th>\n",
       "      <td>1.3</td>\n",
       "      <td>0.2</td>\n",
       "    </tr>\n",
       "    <tr>\n",
       "      <th>3</th>\n",
       "      <td>1.5</td>\n",
       "      <td>0.2</td>\n",
       "    </tr>\n",
       "    <tr>\n",
       "      <th>4</th>\n",
       "      <td>1.4</td>\n",
       "      <td>0.2</td>\n",
       "    </tr>\n",
       "  </tbody>\n",
       "</table>\n",
       "</div>"
      ],
      "text/plain": [
       "   petal length  petal width\n",
       "0           1.4          0.2\n",
       "1           1.4          0.2\n",
       "2           1.3          0.2\n",
       "3           1.5          0.2\n",
       "4           1.4          0.2"
      ]
     },
     "execution_count": 7,
     "metadata": {},
     "output_type": "execute_result"
    }
   ],
   "source": [
    "data = data[['petal length', 'petal width']]\n",
    "data.head()"
   ]
  },
  {
   "cell_type": "code",
   "execution_count": 8,
   "id": "81a6e433",
   "metadata": {},
   "outputs": [
    {
     "data": {
      "text/plain": [
       "150"
      ]
     },
     "execution_count": 8,
     "metadata": {},
     "output_type": "execute_result"
    }
   ],
   "source": [
    "len(data)"
   ]
  },
  {
   "cell_type": "code",
   "execution_count": 9,
   "id": "b30415a5",
   "metadata": {},
   "outputs": [],
   "source": [
    "from sklearn.model_selection import train_test_split\n"
   ]
  },
  {
   "cell_type": "code",
   "execution_count": 10,
   "id": "80cc54e2",
   "metadata": {},
   "outputs": [],
   "source": [
    "data.columns = ['x', 'y']\n",
    "train, test = train_test_split(data, test_size=0.2)\n",
    "print(len(train), len(test))\n",
    "data = train"
   ]
  },
  {
   "cell_type": "code",
   "execution_count": 11,
   "id": "08dec78c",
   "metadata": {},
   "outputs": [
    {
     "name": "stdout",
     "output_type": "stream",
     "text": [
      "120 30\n"
     ]
    }
   ],
   "source": [
    "print(len(train), len(test))"
   ]
  },
  {
   "cell_type": "code",
   "execution_count": 12,
   "id": "e8bbc775",
   "metadata": {},
   "outputs": [
    {
     "data": {
      "image/png": "[encoded data removed]",
      "text/plain": [
       "<Figure size 432x288 with 1 Axes>"
      ]
     },
     "metadata": {
      "needs_background": "light"
     },
     "output_type": "display_data"
    }
   ],
   "source": [
    "import matplotlib.pyplot as plt\n",
    "\n",
    "def plot(data, x, y):\n",
    "    plt.scatter(data[x], data[y])\n",
    "    plt.xlabel(x)\n",
    "    plt.ylabel(y)\n",
    "    plt.show()\n",
    "    return None\n",
    "\n",
    "plot(data, 'x', 'y')\n",
    "\n"
   ]
  },
  {
   "cell_type": "markdown",
   "id": "b62c45c8",
   "metadata": {},
   "source": [
    "# cari m\n",
    "\n",
    "$$m=\\frac{\\sum_{i=1}^n (x_i-\\hat{x})(y_i-\\hat{y})}{\\sum_{i=1}^n (x_i-\\hat{x})^2}$$"
   ]
  },
  {
   "cell_type": "markdown",
   "id": "3d92c428",
   "metadata": {},
   "source": [
    "$\\hat{x}$: mean/average dari x\n",
    "\n",
    "$\\hat{y}$: mean/average dari y"
   ]
  },
  {
   "cell_type": "code",
   "execution_count": 13,
   "id": "cdebbbe1",
   "metadata": {},
   "outputs": [
    {
     "data": {
      "text/plain": [
       "(3.7333333333333334, 1.1941666666666668)"
      ]
     },
     "execution_count": 13,
     "metadata": {},
     "output_type": "execute_result"
    }
   ],
   "source": [
    "mean_x = np.mean(data['x'])\n",
    "mean_y = np.mean(data['y'])\n",
    "mean_x, mean_y"
   ]
  },
  {
   "cell_type": "code",
   "execution_count": 14,
   "id": "4208277c",
   "metadata": {},
   "outputs": [
    {
     "data": {
      "text/html": [
       "<div>\n",
       "<style scoped>\n",
       "    .dataframe tbody tr th:only-of-type {\n",
       "        vertical-align: middle;\n",
       "    }\n",
       "\n",
       "    .dataframe tbody tr th {\n",
       "        vertical-align: top;\n",
       "    }\n",
       "\n",
       "    .dataframe thead th {\n",
       "        text-align: right;\n",
       "    }\n",
       "</style>\n",
       "<table border=\"1\" class=\"dataframe\">\n",
       "  <thead>\n",
       "    <tr style=\"text-align: right;\">\n",
       "      <th></th>\n",
       "      <th>x</th>\n",
       "      <th>y</th>\n",
       "      <th>x-mean(x)</th>\n",
       "    </tr>\n",
       "  </thead>\n",
       "  <tbody>\n",
       "    <tr>\n",
       "      <th>49</th>\n",
       "      <td>1.4</td>\n",
       "      <td>0.2</td>\n",
       "      <td>-2.333333</td>\n",
       "    </tr>\n",
       "    <tr>\n",
       "      <th>7</th>\n",
       "      <td>1.5</td>\n",
       "      <td>0.2</td>\n",
       "      <td>-2.233333</td>\n",
       "    </tr>\n",
       "    <tr>\n",
       "      <th>0</th>\n",
       "      <td>1.4</td>\n",
       "      <td>0.2</td>\n",
       "      <td>-2.333333</td>\n",
       "    </tr>\n",
       "    <tr>\n",
       "      <th>132</th>\n",
       "      <td>5.6</td>\n",
       "      <td>2.2</td>\n",
       "      <td>1.866667</td>\n",
       "    </tr>\n",
       "    <tr>\n",
       "      <th>74</th>\n",
       "      <td>4.3</td>\n",
       "      <td>1.3</td>\n",
       "      <td>0.566667</td>\n",
       "    </tr>\n",
       "  </tbody>\n",
       "</table>\n",
       "</div>"
      ],
      "text/plain": [
       "       x    y  x-mean(x)\n",
       "49   1.4  0.2  -2.333333\n",
       "7    1.5  0.2  -2.233333\n",
       "0    1.4  0.2  -2.333333\n",
       "132  5.6  2.2   1.866667\n",
       "74   4.3  1.3   0.566667"
      ]
     },
     "execution_count": 14,
     "metadata": {},
     "output_type": "execute_result"
    }
   ],
   "source": [
    "# hitung (x_i - mean(x))\n",
    "data['x-mean(x)'] = data['x'] - mean_x\n",
    "data.head()"
   ]
  },
  {
   "cell_type": "code",
   "execution_count": 15,
   "id": "ba801a09",
   "metadata": {},
   "outputs": [
    {
     "data": {
      "text/html": [
       "<div>\n",
       "<style scoped>\n",
       "    .dataframe tbody tr th:only-of-type {\n",
       "        vertical-align: middle;\n",
       "    }\n",
       "\n",
       "    .dataframe tbody tr th {\n",
       "        vertical-align: top;\n",
       "    }\n",
       "\n",
       "    .dataframe thead th {\n",
       "        text-align: right;\n",
       "    }\n",
       "</style>\n",
       "<table border=\"1\" class=\"dataframe\">\n",
       "  <thead>\n",
       "    <tr style=\"text-align: right;\">\n",
       "      <th></th>\n",
       "      <th>x</th>\n",
       "      <th>y</th>\n",
       "      <th>x-mean(x)</th>\n",
       "      <th>y-mean(y)</th>\n",
       "    </tr>\n",
       "  </thead>\n",
       "  <tbody>\n",
       "    <tr>\n",
       "      <th>49</th>\n",
       "      <td>1.4</td>\n",
       "      <td>0.2</td>\n",
       "      <td>-2.333333</td>\n",
       "      <td>-0.994167</td>\n",
       "    </tr>\n",
       "    <tr>\n",
       "      <th>7</th>\n",
       "      <td>1.5</td>\n",
       "      <td>0.2</td>\n",
       "      <td>-2.233333</td>\n",
       "      <td>-0.994167</td>\n",
       "    </tr>\n",
       "    <tr>\n",
       "      <th>0</th>\n",
       "      <td>1.4</td>\n",
       "      <td>0.2</td>\n",
       "      <td>-2.333333</td>\n",
       "      <td>-0.994167</td>\n",
       "    </tr>\n",
       "    <tr>\n",
       "      <th>132</th>\n",
       "      <td>5.6</td>\n",
       "      <td>2.2</td>\n",
       "      <td>1.866667</td>\n",
       "      <td>1.005833</td>\n",
       "    </tr>\n",
       "    <tr>\n",
       "      <th>74</th>\n",
       "      <td>4.3</td>\n",
       "      <td>1.3</td>\n",
       "      <td>0.566667</td>\n",
       "      <td>0.105833</td>\n",
       "    </tr>\n",
       "  </tbody>\n",
       "</table>\n",
       "</div>"
      ],
      "text/plain": [
       "       x    y  x-mean(x)  y-mean(y)\n",
       "49   1.4  0.2  -2.333333  -0.994167\n",
       "7    1.5  0.2  -2.233333  -0.994167\n",
       "0    1.4  0.2  -2.333333  -0.994167\n",
       "132  5.6  2.2   1.866667   1.005833\n",
       "74   4.3  1.3   0.566667   0.105833"
      ]
     },
     "execution_count": 15,
     "metadata": {},
     "output_type": "execute_result"
    }
   ],
   "source": [
    "data['y-mean(y)'] = data['y'] - mean_y\n",
    "data.head()"
   ]
  },
  {
   "cell_type": "code",
   "execution_count": 16,
   "id": "4bef1681",
   "metadata": {},
   "outputs": [
    {
     "data": {
      "text/html": [
       "<div>\n",
       "<style scoped>\n",
       "    .dataframe tbody tr th:only-of-type {\n",
       "        vertical-align: middle;\n",
       "    }\n",
       "\n",
       "    .dataframe tbody tr th {\n",
       "        vertical-align: top;\n",
       "    }\n",
       "\n",
       "    .dataframe thead th {\n",
       "        text-align: right;\n",
       "    }\n",
       "</style>\n",
       "<table border=\"1\" class=\"dataframe\">\n",
       "  <thead>\n",
       "    <tr style=\"text-align: right;\">\n",
       "      <th></th>\n",
       "      <th>x</th>\n",
       "      <th>y</th>\n",
       "      <th>x-mean(x)</th>\n",
       "      <th>y-mean(y)</th>\n",
       "      <th>(x-mean(x))^2</th>\n",
       "    </tr>\n",
       "  </thead>\n",
       "  <tbody>\n",
       "    <tr>\n",
       "      <th>49</th>\n",
       "      <td>1.4</td>\n",
       "      <td>0.2</td>\n",
       "      <td>-2.333333</td>\n",
       "      <td>-0.994167</td>\n",
       "      <td>5.444444</td>\n",
       "    </tr>\n",
       "    <tr>\n",
       "      <th>7</th>\n",
       "      <td>1.5</td>\n",
       "      <td>0.2</td>\n",
       "      <td>-2.233333</td>\n",
       "      <td>-0.994167</td>\n",
       "      <td>4.987778</td>\n",
       "    </tr>\n",
       "    <tr>\n",
       "      <th>0</th>\n",
       "      <td>1.4</td>\n",
       "      <td>0.2</td>\n",
       "      <td>-2.333333</td>\n",
       "      <td>-0.994167</td>\n",
       "      <td>5.444444</td>\n",
       "    </tr>\n",
       "    <tr>\n",
       "      <th>132</th>\n",
       "      <td>5.6</td>\n",
       "      <td>2.2</td>\n",
       "      <td>1.866667</td>\n",
       "      <td>1.005833</td>\n",
       "      <td>3.484444</td>\n",
       "    </tr>\n",
       "    <tr>\n",
       "      <th>74</th>\n",
       "      <td>4.3</td>\n",
       "      <td>1.3</td>\n",
       "      <td>0.566667</td>\n",
       "      <td>0.105833</td>\n",
       "      <td>0.321111</td>\n",
       "    </tr>\n",
       "  </tbody>\n",
       "</table>\n",
       "</div>"
      ],
      "text/plain": [
       "       x    y  x-mean(x)  y-mean(y)  (x-mean(x))^2\n",
       "49   1.4  0.2  -2.333333  -0.994167       5.444444\n",
       "7    1.5  0.2  -2.233333  -0.994167       4.987778\n",
       "0    1.4  0.2  -2.333333  -0.994167       5.444444\n",
       "132  5.6  2.2   1.866667   1.005833       3.484444\n",
       "74   4.3  1.3   0.566667   0.105833       0.321111"
      ]
     },
     "execution_count": 16,
     "metadata": {},
     "output_type": "execute_result"
    }
   ],
   "source": [
    "data['(x-mean(x))^2'] = data['x-mean(x)']**2\n",
    "data.head()"
   ]
  },
  {
   "cell_type": "code",
   "execution_count": 17,
   "id": "3115e3b4",
   "metadata": {},
   "outputs": [
    {
     "data": {
      "text/html": [
       "<div>\n",
       "<style scoped>\n",
       "    .dataframe tbody tr th:only-of-type {\n",
       "        vertical-align: middle;\n",
       "    }\n",
       "\n",
       "    .dataframe tbody tr th {\n",
       "        vertical-align: top;\n",
       "    }\n",
       "\n",
       "    .dataframe thead th {\n",
       "        text-align: right;\n",
       "    }\n",
       "</style>\n",
       "<table border=\"1\" class=\"dataframe\">\n",
       "  <thead>\n",
       "    <tr style=\"text-align: right;\">\n",
       "      <th></th>\n",
       "      <th>x</th>\n",
       "      <th>y</th>\n",
       "      <th>x-mean(x)</th>\n",
       "      <th>y-mean(y)</th>\n",
       "      <th>(x-mean(x))^2</th>\n",
       "      <th>(x-mean(x))(y-mean(y))</th>\n",
       "    </tr>\n",
       "  </thead>\n",
       "  <tbody>\n",
       "    <tr>\n",
       "      <th>49</th>\n",
       "      <td>1.4</td>\n",
       "      <td>0.2</td>\n",
       "      <td>-2.333333</td>\n",
       "      <td>-0.994167</td>\n",
       "      <td>5.444444</td>\n",
       "      <td>2.319722</td>\n",
       "    </tr>\n",
       "    <tr>\n",
       "      <th>7</th>\n",
       "      <td>1.5</td>\n",
       "      <td>0.2</td>\n",
       "      <td>-2.233333</td>\n",
       "      <td>-0.994167</td>\n",
       "      <td>4.987778</td>\n",
       "      <td>2.220306</td>\n",
       "    </tr>\n",
       "    <tr>\n",
       "      <th>0</th>\n",
       "      <td>1.4</td>\n",
       "      <td>0.2</td>\n",
       "      <td>-2.333333</td>\n",
       "      <td>-0.994167</td>\n",
       "      <td>5.444444</td>\n",
       "      <td>2.319722</td>\n",
       "    </tr>\n",
       "    <tr>\n",
       "      <th>132</th>\n",
       "      <td>5.6</td>\n",
       "      <td>2.2</td>\n",
       "      <td>1.866667</td>\n",
       "      <td>1.005833</td>\n",
       "      <td>3.484444</td>\n",
       "      <td>1.877556</td>\n",
       "    </tr>\n",
       "    <tr>\n",
       "      <th>74</th>\n",
       "      <td>4.3</td>\n",
       "      <td>1.3</td>\n",
       "      <td>0.566667</td>\n",
       "      <td>0.105833</td>\n",
       "      <td>0.321111</td>\n",
       "      <td>0.059972</td>\n",
       "    </tr>\n",
       "  </tbody>\n",
       "</table>\n",
       "</div>"
      ],
      "text/plain": [
       "       x    y  x-mean(x)  y-mean(y)  (x-mean(x))^2  (x-mean(x))(y-mean(y))\n",
       "49   1.4  0.2  -2.333333  -0.994167       5.444444                2.319722\n",
       "7    1.5  0.2  -2.233333  -0.994167       4.987778                2.220306\n",
       "0    1.4  0.2  -2.333333  -0.994167       5.444444                2.319722\n",
       "132  5.6  2.2   1.866667   1.005833       3.484444                1.877556\n",
       "74   4.3  1.3   0.566667   0.105833       0.321111                0.059972"
      ]
     },
     "execution_count": 17,
     "metadata": {},
     "output_type": "execute_result"
    }
   ],
   "source": [
    "data['(x-mean(x))(y-mean(y))'] = data['x-mean(x)']*data['y-mean(y)']\n",
    "data.head()"
   ]
  },
  {
   "cell_type": "code",
   "execution_count": 18,
   "id": "e635fb6e",
   "metadata": {},
   "outputs": [
    {
     "data": {
      "text/plain": [
       "(384.8266666666667, 159.73333333333332)"
      ]
     },
     "execution_count": 18,
     "metadata": {},
     "output_type": "execute_result"
    }
   ],
   "source": [
    "sum_x_sq = np.sum(data['(x-mean(x))^2'])\n",
    "sum_x_y = np.sum(data['(x-mean(x))(y-mean(y))'])\n",
    "sum_x_sq, sum_x_y"
   ]
  },
  {
   "cell_type": "code",
   "execution_count": 19,
   "id": "a37fd105",
   "metadata": {},
   "outputs": [
    {
     "data": {
      "text/plain": [
       "0.41507865012819617"
      ]
     },
     "execution_count": 19,
     "metadata": {},
     "output_type": "execute_result"
    }
   ],
   "source": [
    "# m\n",
    "m = sum_x_y/sum_x_sq\n",
    "m"
   ]
  },
  {
   "cell_type": "code",
   "execution_count": 21,
   "id": "56f6b9e4",
   "metadata": {},
   "outputs": [
    {
     "data": {
      "text/plain": [
       "-0.3554602938119322"
      ]
     },
     "execution_count": 21,
     "metadata": {},
     "output_type": "execute_result"
    }
   ],
   "source": [
    "# c\n",
    "# y = m*x + c\n",
    "# c = y - m*x\n",
    "c = mean_y - m*mean_x\n",
    "c\n"
   ]
  },
  {
   "cell_type": "code",
   "execution_count": 22,
   "id": "486480aa",
   "metadata": {},
   "outputs": [
    {
     "data": {
      "text/html": [
       "<div>\n",
       "<style scoped>\n",
       "    .dataframe tbody tr th:only-of-type {\n",
       "        vertical-align: middle;\n",
       "    }\n",
       "\n",
       "    .dataframe tbody tr th {\n",
       "        vertical-align: top;\n",
       "    }\n",
       "\n",
       "    .dataframe thead th {\n",
       "        text-align: right;\n",
       "    }\n",
       "</style>\n",
       "<table border=\"1\" class=\"dataframe\">\n",
       "  <thead>\n",
       "    <tr style=\"text-align: right;\">\n",
       "      <th></th>\n",
       "      <th>x</th>\n",
       "      <th>y</th>\n",
       "      <th>x-mean(x)</th>\n",
       "      <th>y-mean(y)</th>\n",
       "      <th>(x-mean(x))^2</th>\n",
       "      <th>(x-mean(x))(y-mean(y))</th>\n",
       "      <th>prediction</th>\n",
       "    </tr>\n",
       "  </thead>\n",
       "  <tbody>\n",
       "    <tr>\n",
       "      <th>49</th>\n",
       "      <td>1.4</td>\n",
       "      <td>0.2</td>\n",
       "      <td>-2.333333</td>\n",
       "      <td>-0.994167</td>\n",
       "      <td>5.444444</td>\n",
       "      <td>2.319722</td>\n",
       "      <td>0.225650</td>\n",
       "    </tr>\n",
       "    <tr>\n",
       "      <th>7</th>\n",
       "      <td>1.5</td>\n",
       "      <td>0.2</td>\n",
       "      <td>-2.233333</td>\n",
       "      <td>-0.994167</td>\n",
       "      <td>4.987778</td>\n",
       "      <td>2.220306</td>\n",
       "      <td>0.267158</td>\n",
       "    </tr>\n",
       "    <tr>\n",
       "      <th>0</th>\n",
       "      <td>1.4</td>\n",
       "      <td>0.2</td>\n",
       "      <td>-2.333333</td>\n",
       "      <td>-0.994167</td>\n",
       "      <td>5.444444</td>\n",
       "      <td>2.319722</td>\n",
       "      <td>0.225650</td>\n",
       "    </tr>\n",
       "    <tr>\n",
       "      <th>132</th>\n",
       "      <td>5.6</td>\n",
       "      <td>2.2</td>\n",
       "      <td>1.866667</td>\n",
       "      <td>1.005833</td>\n",
       "      <td>3.484444</td>\n",
       "      <td>1.877556</td>\n",
       "      <td>1.968980</td>\n",
       "    </tr>\n",
       "    <tr>\n",
       "      <th>74</th>\n",
       "      <td>4.3</td>\n",
       "      <td>1.3</td>\n",
       "      <td>0.566667</td>\n",
       "      <td>0.105833</td>\n",
       "      <td>0.321111</td>\n",
       "      <td>0.059972</td>\n",
       "      <td>1.429378</td>\n",
       "    </tr>\n",
       "  </tbody>\n",
       "</table>\n",
       "</div>"
      ],
      "text/plain": [
       "       x    y  x-mean(x)  y-mean(y)  (x-mean(x))^2  (x-mean(x))(y-mean(y))  \\\n",
       "49   1.4  0.2  -2.333333  -0.994167       5.444444                2.319722   \n",
       "7    1.5  0.2  -2.233333  -0.994167       4.987778                2.220306   \n",
       "0    1.4  0.2  -2.333333  -0.994167       5.444444                2.319722   \n",
       "132  5.6  2.2   1.866667   1.005833       3.484444                1.877556   \n",
       "74   4.3  1.3   0.566667   0.105833       0.321111                0.059972   \n",
       "\n",
       "     prediction  \n",
       "49     0.225650  \n",
       "7      0.267158  \n",
       "0      0.225650  \n",
       "132    1.968980  \n",
       "74     1.429378  "
      ]
     },
     "execution_count": 22,
     "metadata": {},
     "output_type": "execute_result"
    }
   ],
   "source": [
    "data['prediction'] = m*data['x'] + c\n",
    "data.head()"
   ]
  },
  {
   "cell_type": "code",
   "execution_count": 23,
   "id": "17d6e306",
   "metadata": {},
   "outputs": [
    {
     "data": {
      "text/html": [
       "<div>\n",
       "<style scoped>\n",
       "    .dataframe tbody tr th:only-of-type {\n",
       "        vertical-align: middle;\n",
       "    }\n",
       "\n",
       "    .dataframe tbody tr th {\n",
       "        vertical-align: top;\n",
       "    }\n",
       "\n",
       "    .dataframe thead th {\n",
       "        text-align: right;\n",
       "    }\n",
       "</style>\n",
       "<table border=\"1\" class=\"dataframe\">\n",
       "  <thead>\n",
       "    <tr style=\"text-align: right;\">\n",
       "      <th></th>\n",
       "      <th>x</th>\n",
       "      <th>y</th>\n",
       "      <th>prediction</th>\n",
       "    </tr>\n",
       "  </thead>\n",
       "  <tbody>\n",
       "    <tr>\n",
       "      <th>24</th>\n",
       "      <td>1.9</td>\n",
       "      <td>0.2</td>\n",
       "      <td>0.433189</td>\n",
       "    </tr>\n",
       "    <tr>\n",
       "      <th>97</th>\n",
       "      <td>4.3</td>\n",
       "      <td>1.3</td>\n",
       "      <td>1.429378</td>\n",
       "    </tr>\n",
       "    <tr>\n",
       "      <th>106</th>\n",
       "      <td>4.5</td>\n",
       "      <td>1.7</td>\n",
       "      <td>1.512394</td>\n",
       "    </tr>\n",
       "    <tr>\n",
       "      <th>140</th>\n",
       "      <td>5.6</td>\n",
       "      <td>2.4</td>\n",
       "      <td>1.968980</td>\n",
       "    </tr>\n",
       "    <tr>\n",
       "      <th>96</th>\n",
       "      <td>4.2</td>\n",
       "      <td>1.3</td>\n",
       "      <td>1.387870</td>\n",
       "    </tr>\n",
       "  </tbody>\n",
       "</table>\n",
       "</div>"
      ],
      "text/plain": [
       "       x    y  prediction\n",
       "24   1.9  0.2    0.433189\n",
       "97   4.3  1.3    1.429378\n",
       "106  4.5  1.7    1.512394\n",
       "140  5.6  2.4    1.968980\n",
       "96   4.2  1.3    1.387870"
      ]
     },
     "execution_count": 23,
     "metadata": {},
     "output_type": "execute_result"
    }
   ],
   "source": [
    "# test\n",
    "test['prediction'] = m*test['x'] + c\n",
    "test.head()"
   ]
  },
  {
   "cell_type": "code",
   "execution_count": 24,
   "id": "1ffe85b0",
   "metadata": {},
   "outputs": [
    {
     "data": {
      "image/png": "[encoded data removed]",
      "text/plain": [
       "<Figure size 432x288 with 1 Axes>"
      ]
     },
     "metadata": {
      "needs_background": "light"
     },
     "output_type": "display_data"
    }
   ],
   "source": [
    "def plot_grup(data, x, y_list):\n",
    "    for y in y_list:\n",
    "        plt.scatter(data[x], data[y])\n",
    "    plt.xlabel(x)\n",
    "    plt.ylabel('y')\n",
    "    plt.show()\n",
    "    return None\n",
    "plot_grup(data, 'x', ['y', 'prediction'])"
   ]
  },
  {
   "cell_type": "code",
   "execution_count": 25,
   "id": "f2f9a43a",
   "metadata": {},
   "outputs": [
    {
     "data": {
      "image/png": "[encoded data removed]",
      "text/plain": [
       "<Figure size 432x288 with 1 Axes>"
      ]
     },
     "metadata": {
      "needs_background": "light"
     },
     "output_type": "display_data"
    }
   ],
   "source": [
    "plot_grup(test, 'x', ['y', 'prediction'])"
   ]
  },
  {
   "cell_type": "markdown",
   "id": "e8865300",
   "metadata": {},
   "source": [
    "### R square value: seberapa akurat sih model kita\n",
    "\n",
    "$$R^2 = \\frac{\\sum{(y_{pred}-\\hat{y})^2}}{\\sum{(y-\\hat{y})^2}}$$"
   ]
  },
  {
   "cell_type": "code",
   "execution_count": 26,
   "id": "fb808a88",
   "metadata": {},
   "outputs": [
    {
     "data": {
      "text/html": [
       "<div>\n",
       "<style scoped>\n",
       "    .dataframe tbody tr th:only-of-type {\n",
       "        vertical-align: middle;\n",
       "    }\n",
       "\n",
       "    .dataframe tbody tr th {\n",
       "        vertical-align: top;\n",
       "    }\n",
       "\n",
       "    .dataframe thead th {\n",
       "        text-align: right;\n",
       "    }\n",
       "</style>\n",
       "<table border=\"1\" class=\"dataframe\">\n",
       "  <thead>\n",
       "    <tr style=\"text-align: right;\">\n",
       "      <th></th>\n",
       "      <th>x</th>\n",
       "      <th>y</th>\n",
       "      <th>x-mean(x)</th>\n",
       "      <th>y-mean(y)</th>\n",
       "      <th>(x-mean(x))^2</th>\n",
       "      <th>(x-mean(x))(y-mean(y))</th>\n",
       "      <th>prediction</th>\n",
       "      <th>y_pred-mean(y)</th>\n",
       "    </tr>\n",
       "  </thead>\n",
       "  <tbody>\n",
       "    <tr>\n",
       "      <th>49</th>\n",
       "      <td>1.4</td>\n",
       "      <td>0.2</td>\n",
       "      <td>-2.333333</td>\n",
       "      <td>-0.994167</td>\n",
       "      <td>5.444444</td>\n",
       "      <td>2.319722</td>\n",
       "      <td>0.225650</td>\n",
       "      <td>0.938025</td>\n",
       "    </tr>\n",
       "    <tr>\n",
       "      <th>7</th>\n",
       "      <td>1.5</td>\n",
       "      <td>0.2</td>\n",
       "      <td>-2.233333</td>\n",
       "      <td>-0.994167</td>\n",
       "      <td>4.987778</td>\n",
       "      <td>2.220306</td>\n",
       "      <td>0.267158</td>\n",
       "      <td>0.859346</td>\n",
       "    </tr>\n",
       "    <tr>\n",
       "      <th>0</th>\n",
       "      <td>1.4</td>\n",
       "      <td>0.2</td>\n",
       "      <td>-2.333333</td>\n",
       "      <td>-0.994167</td>\n",
       "      <td>5.444444</td>\n",
       "      <td>2.319722</td>\n",
       "      <td>0.225650</td>\n",
       "      <td>0.938025</td>\n",
       "    </tr>\n",
       "    <tr>\n",
       "      <th>132</th>\n",
       "      <td>5.6</td>\n",
       "      <td>2.2</td>\n",
       "      <td>1.866667</td>\n",
       "      <td>1.005833</td>\n",
       "      <td>3.484444</td>\n",
       "      <td>1.877556</td>\n",
       "      <td>1.968980</td>\n",
       "      <td>0.600336</td>\n",
       "    </tr>\n",
       "    <tr>\n",
       "      <th>74</th>\n",
       "      <td>4.3</td>\n",
       "      <td>1.3</td>\n",
       "      <td>0.566667</td>\n",
       "      <td>0.105833</td>\n",
       "      <td>0.321111</td>\n",
       "      <td>0.059972</td>\n",
       "      <td>1.429378</td>\n",
       "      <td>0.055324</td>\n",
       "    </tr>\n",
       "  </tbody>\n",
       "</table>\n",
       "</div>"
      ],
      "text/plain": [
       "       x    y  x-mean(x)  y-mean(y)  (x-mean(x))^2  (x-mean(x))(y-mean(y))  \\\n",
       "49   1.4  0.2  -2.333333  -0.994167       5.444444                2.319722   \n",
       "7    1.5  0.2  -2.233333  -0.994167       4.987778                2.220306   \n",
       "0    1.4  0.2  -2.333333  -0.994167       5.444444                2.319722   \n",
       "132  5.6  2.2   1.866667   1.005833       3.484444                1.877556   \n",
       "74   4.3  1.3   0.566667   0.105833       0.321111                0.059972   \n",
       "\n",
       "     prediction  y_pred-mean(y)  \n",
       "49     0.225650        0.938025  \n",
       "7      0.267158        0.859346  \n",
       "0      0.225650        0.938025  \n",
       "132    1.968980        0.600336  \n",
       "74     1.429378        0.055324  "
      ]
     },
     "execution_count": 26,
     "metadata": {},
     "output_type": "execute_result"
    }
   ],
   "source": [
    "data['y_pred-mean(y)'] = (data['prediction'] - mean_y)**2\n",
    "data.head()"
   ]
  },
  {
   "cell_type": "code",
   "execution_count": 27,
   "id": "e4661e5e",
   "metadata": {},
   "outputs": [
    {
     "data": {
      "text/plain": [
       "(70.92591666666664, 66.30189638047719)"
      ]
     },
     "execution_count": 27,
     "metadata": {},
     "output_type": "execute_result"
    }
   ],
   "source": [
    "sum_y_ymean = np.sum(data['y-mean(y)']**2)\n",
    "sum_y_pred_ymean2 = np.sum(data['y_pred-mean(y)'])\n",
    "sum_y_ymean, sum_y_pred_ymean2"
   ]
  },
  {
   "cell_type": "code",
   "execution_count": 28,
   "id": "c81dfc73",
   "metadata": {},
   "outputs": [
    {
     "data": {
      "text/plain": [
       "0.9348049274016275"
      ]
     },
     "execution_count": 28,
     "metadata": {},
     "output_type": "execute_result"
    }
   ],
   "source": [
    "R = sum_y_pred_ymean2/sum_y_ymean\n",
    "R"
   ]
  },
  {
   "cell_type": "code",
   "execution_count": 1,
   "id": "181eb7ce",
   "metadata": {},
   "outputs": [],
   "source": [
    "# Linear Regression dengan Package Scikit-learn\n",
    "\n",
    "from sklearn.linear_model import LinearRegression\n",
    "from sklearn.metrics import mean_squared_error"
   ]
  },
  {
   "cell_type": "code",
   "execution_count": 50,
   "id": "331fe284",
   "metadata": {},
   "outputs": [
    {
     "name": "stdout",
     "output_type": "stream",
     "text": [
      "0.9348049274016275\n"
     ]
    }
   ],
   "source": [
    "l = len(data)\n",
    "reg = LinearRegression()\n",
    "reg = reg.fit(data[['x']].to_numpy(), data['y'])\n",
    "\n",
    "Y_pred = reg.predict(data[['x']].to_numpy())\n",
    "r2_square = reg.score(data[['x']], data['y'])\n",
    "print(r2_square)"
   ]
  },
  {
   "cell_type": "code",
   "execution_count": 55,
   "id": "dea4b4ee",
   "metadata": {},
   "outputs": [],
   "source": [
    "LinearRegression?"
   ]
  },
  {
   "cell_type": "code",
   "execution_count": null,
   "id": "5f913fad",
   "metadata": {},
   "outputs": [],
   "source": [
    "# y = m * x + c\n",
    "# y = m1 * x**n + m2* x**(n-1) + .... + c"
   ]
  },
  {
   "cell_type": "code",
   "execution_count": 51,
   "id": "0afd3d8d",
   "metadata": {},
   "outputs": [],
   "source": [
    "# ada kaitan antara RMSE dengan \n",
    "# koefisien kolerasi (Pearson correlation)\n",
    "\n",
    "# x dan y\n",
    "# + 1 (terkolerasi linear)\n",
    "#   0 (tidak terkolerasi linear)\n",
    "# - 1 (terkolerasi linear terbalik)"
   ]
  },
  {
   "cell_type": "code",
   "execution_count": 52,
   "id": "52d0f976",
   "metadata": {},
   "outputs": [
    {
     "data": {
      "text/html": [
       "<div>\n",
       "<style scoped>\n",
       "    .dataframe tbody tr th:only-of-type {\n",
       "        vertical-align: middle;\n",
       "    }\n",
       "\n",
       "    .dataframe tbody tr th {\n",
       "        vertical-align: top;\n",
       "    }\n",
       "\n",
       "    .dataframe thead th {\n",
       "        text-align: right;\n",
       "    }\n",
       "</style>\n",
       "<table border=\"1\" class=\"dataframe\">\n",
       "  <thead>\n",
       "    <tr style=\"text-align: right;\">\n",
       "      <th></th>\n",
       "      <th>x</th>\n",
       "      <th>y</th>\n",
       "    </tr>\n",
       "  </thead>\n",
       "  <tbody>\n",
       "    <tr>\n",
       "      <th>x</th>\n",
       "      <td>1.000000</td>\n",
       "      <td>0.966853</td>\n",
       "    </tr>\n",
       "    <tr>\n",
       "      <th>y</th>\n",
       "      <td>0.966853</td>\n",
       "      <td>1.000000</td>\n",
       "    </tr>\n",
       "  </tbody>\n",
       "</table>\n",
       "</div>"
      ],
      "text/plain": [
       "          x         y\n",
       "x  1.000000  0.966853\n",
       "y  0.966853  1.000000"
      ]
     },
     "execution_count": 52,
     "metadata": {},
     "output_type": "execute_result"
    }
   ],
   "source": [
    "data[['x', 'y']].corr()"
   ]
  },
  {
   "cell_type": "code",
   "execution_count": 53,
   "id": "30f61024",
   "metadata": {},
   "outputs": [
    {
     "data": {
      "text/plain": [
       "['__SKLEARN_SETUP__',\n",
       " '__all__',\n",
       " '__builtins__',\n",
       " '__cached__',\n",
       " '__check_build',\n",
       " '__doc__',\n",
       " '__file__',\n",
       " '__loader__',\n",
       " '__name__',\n",
       " '__package__',\n",
       " '__path__',\n",
       " '__spec__',\n",
       " '__version__',\n",
       " '_config',\n",
       " '_distributor_init',\n",
       " '_loss',\n",
       " 'base',\n",
       " 'clone',\n",
       " 'config_context',\n",
       " 'datasets',\n",
       " 'exceptions',\n",
       " 'externals',\n",
       " 'feature_extraction',\n",
       " 'get_config',\n",
       " 'linear_model',\n",
       " 'logger',\n",
       " 'logging',\n",
       " 'metrics',\n",
       " 'model_selection',\n",
       " 'os',\n",
       " 'preprocessing',\n",
       " 'set_config',\n",
       " 'setup_module',\n",
       " 'show_versions',\n",
       " 'svm',\n",
       " 'sys',\n",
       " 'utils']"
      ]
     },
     "execution_count": 53,
     "metadata": {},
     "output_type": "execute_result"
    }
   ],
   "source": [
    "import sklearn\n",
    "\n",
    "dir(sklearn)"
   ]
  },
  {
   "cell_type": "code",
   "execution_count": 54,
   "id": "d910f385",
   "metadata": {},
   "outputs": [
    {
     "data": {
      "text/plain": [
       "['ARDRegression',\n",
       " 'BayesianRidge',\n",
       " 'ElasticNet',\n",
       " 'ElasticNetCV',\n",
       " 'GammaRegressor',\n",
       " 'Hinge',\n",
       " 'Huber',\n",
       " 'HuberRegressor',\n",
       " 'Lars',\n",
       " 'LarsCV',\n",
       " 'Lasso',\n",
       " 'LassoCV',\n",
       " 'LassoLars',\n",
       " 'LassoLarsCV',\n",
       " 'LassoLarsIC',\n",
       " 'LinearRegression',\n",
       " 'Log',\n",
       " 'LogisticRegression',\n",
       " 'LogisticRegressionCV',\n",
       " 'ModifiedHuber',\n",
       " 'MultiTaskElasticNet',\n",
       " 'MultiTaskElasticNetCV',\n",
       " 'MultiTaskLasso',\n",
       " 'MultiTaskLassoCV',\n",
       " 'OrthogonalMatchingPursuit',\n",
       " 'OrthogonalMatchingPursuitCV',\n",
       " 'PassiveAggressiveClassifier',\n",
       " 'PassiveAggressiveRegressor',\n",
       " 'Perceptron',\n",
       " 'PoissonRegressor',\n",
       " 'RANSACRegressor',\n",
       " 'Ridge',\n",
       " 'RidgeCV',\n",
       " 'RidgeClassifier',\n",
       " 'RidgeClassifierCV',\n",
       " 'SGDClassifier',\n",
       " 'SGDRegressor',\n",
       " 'SquaredLoss',\n",
       " 'TheilSenRegressor',\n",
       " 'TweedieRegressor',\n",
       " '__all__',\n",
       " '__builtins__',\n",
       " '__cached__',\n",
       " '__doc__',\n",
       " '__file__',\n",
       " '__loader__',\n",
       " '__name__',\n",
       " '__package__',\n",
       " '__path__',\n",
       " '__spec__',\n",
       " '_base',\n",
       " '_bayes',\n",
       " '_cd_fast',\n",
       " '_coordinate_descent',\n",
       " '_glm',\n",
       " '_huber',\n",
       " '_least_angle',\n",
       " '_logistic',\n",
       " '_omp',\n",
       " '_passive_aggressive',\n",
       " '_perceptron',\n",
       " '_ransac',\n",
       " '_ridge',\n",
       " '_sag',\n",
       " '_sag_fast',\n",
       " '_sgd_fast',\n",
       " '_stochastic_gradient',\n",
       " '_theil_sen',\n",
       " 'enet_path',\n",
       " 'lars_path',\n",
       " 'lars_path_gram',\n",
       " 'lasso_path',\n",
       " 'orthogonal_mp',\n",
       " 'orthogonal_mp_gram',\n",
       " 'ridge_regression']"
      ]
     },
     "execution_count": 54,
     "metadata": {},
     "output_type": "execute_result"
    }
   ],
   "source": [
    "from sklearn import linear_model\n",
    "\n",
    "dir(linear_model)"
   ]
  },
  {
   "cell_type": "code",
   "execution_count": null,
   "id": "f1f9728a",
   "metadata": {},
   "outputs": [],
   "source": []
  }
 ],
 "metadata": {
  "kernelspec": {
   "display_name": "Python 3",
   "language": "python",
   "name": "python3"
  },
  "language_info": {
   "codemirror_mode": {
    "name": "ipython",
    "version": 3
   },
   "file_extension": ".py",
   "mimetype": "text/x-python",
   "name": "python",
   "nbconvert_exporter": "python",
   "pygments_lexer": "ipython3",
   "version": "3.9.6"
  }
 },
 "nbformat": 4,
 "nbformat_minor": 5
}
