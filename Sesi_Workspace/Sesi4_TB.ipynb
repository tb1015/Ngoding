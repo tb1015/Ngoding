{
 "cells": [
  {
   "cell_type": "markdown",
   "id": "2fbc03a3-2126-4573-b431-cbc314bc0f81",
   "metadata": {},
   "source": [
    "# Object Oriented Programming\n",
    "Python sebeneranya juga berupa environment OOP\n",
    "- Bila kita mendefinisikan variable di python, kita membuat object"
   ]
  },
  {
   "cell_type": "code",
   "execution_count": 1,
   "id": "f2e336f5-05f6-4e70-ba9e-f5866c6f9ea0",
   "metadata": {},
   "outputs": [
    {
     "name": "stdout",
     "output_type": "stream",
     "text": [
      "<class 'int'>\n"
     ]
    }
   ],
   "source": [
    "# Object\n",
    "\n",
    "x = 1\n",
    "print(type(x))"
   ]
  },
  {
   "cell_type": "code",
   "execution_count": 2,
   "id": "87ba65a0-7dc8-4b25-a491-1296c9baba1f",
   "metadata": {},
   "outputs": [
    {
     "name": "stdout",
     "output_type": "stream",
     "text": [
      "<class 'str'>\n"
     ]
    }
   ],
   "source": [
    "print(type('S'))"
   ]
  },
  {
   "cell_type": "code",
   "execution_count": 3,
   "id": "7b521ac0-f86d-4bf4-bfc0-eccb98dbb06c",
   "metadata": {},
   "outputs": [
    {
     "name": "stdout",
     "output_type": "stream",
     "text": [
      "<class 'function'>\n"
     ]
    }
   ],
   "source": [
    "def fungsi():\n",
    "    print(\"ini fungsi\")\n",
    "    \n",
    "print(type(fungsi))"
   ]
  },
  {
   "cell_type": "code",
   "execution_count": 4,
   "id": "f2b79bc8-cf69-4a87-8d6e-75b55a912f4b",
   "metadata": {},
   "outputs": [
    {
     "ename": "TypeError",
     "evalue": "unsupported operand type(s) for +: 'int' and 'str'",
     "output_type": "error",
     "traceback": [
      "\u001b[0;31m---------------------------------------------------------------------------\u001b[0m",
      "\u001b[0;31mTypeError\u001b[0m                                 Traceback (most recent call last)",
      "\u001b[0;32m<ipython-input-4-7ff5cb60d31b>\u001b[0m in \u001b[0;36m<module>\u001b[0;34m\u001b[0m\n\u001b[0;32m----> 1\u001b[0;31m \u001b[0;36m1\u001b[0m \u001b[0;34m+\u001b[0m \u001b[0;34m'1'\u001b[0m\u001b[0;34m\u001b[0m\u001b[0;34m\u001b[0m\u001b[0m\n\u001b[0m",
      "\u001b[0;31mTypeError\u001b[0m: unsupported operand type(s) for +: 'int' and 'str'"
     ]
    }
   ],
   "source": [
    "1 + '1'"
   ]
  },
  {
   "cell_type": "code",
   "execution_count": 5,
   "id": "b7c23f18-12d8-4805-8eac-3c8eaf46b0c5",
   "metadata": {},
   "outputs": [
    {
     "name": "stdout",
     "output_type": "stream",
     "text": [
      "<class 'str'>\n"
     ]
    },
    {
     "data": {
      "text/plain": [
       "'SELAMAT SIANG'"
      ]
     },
     "execution_count": 5,
     "metadata": {},
     "output_type": "execute_result"
    }
   ],
   "source": [
    "# Method\n",
    "\n",
    "string = \"selamat siang\"\n",
    "print(type(string))\n",
    "string.upper() # --> method untuk class string"
   ]
  },
  {
   "cell_type": "code",
   "execution_count": 6,
   "id": "01329e45-937b-4d81-a861-21434a9e15b2",
   "metadata": {},
   "outputs": [
    {
     "data": {
      "text/plain": [
       "['__add__',\n",
       " '__class__',\n",
       " '__contains__',\n",
       " '__delattr__',\n",
       " '__dir__',\n",
       " '__doc__',\n",
       " '__eq__',\n",
       " '__format__',\n",
       " '__ge__',\n",
       " '__getattribute__',\n",
       " '__getitem__',\n",
       " '__getnewargs__',\n",
       " '__gt__',\n",
       " '__hash__',\n",
       " '__init__',\n",
       " '__init_subclass__',\n",
       " '__iter__',\n",
       " '__le__',\n",
       " '__len__',\n",
       " '__lt__',\n",
       " '__mod__',\n",
       " '__mul__',\n",
       " '__ne__',\n",
       " '__new__',\n",
       " '__reduce__',\n",
       " '__reduce_ex__',\n",
       " '__repr__',\n",
       " '__rmod__',\n",
       " '__rmul__',\n",
       " '__setattr__',\n",
       " '__sizeof__',\n",
       " '__str__',\n",
       " '__subclasshook__',\n",
       " 'capitalize',\n",
       " 'casefold',\n",
       " 'center',\n",
       " 'count',\n",
       " 'encode',\n",
       " 'endswith',\n",
       " 'expandtabs',\n",
       " 'find',\n",
       " 'format',\n",
       " 'format_map',\n",
       " 'index',\n",
       " 'isalnum',\n",
       " 'isalpha',\n",
       " 'isascii',\n",
       " 'isdecimal',\n",
       " 'isdigit',\n",
       " 'isidentifier',\n",
       " 'islower',\n",
       " 'isnumeric',\n",
       " 'isprintable',\n",
       " 'isspace',\n",
       " 'istitle',\n",
       " 'isupper',\n",
       " 'join',\n",
       " 'ljust',\n",
       " 'lower',\n",
       " 'lstrip',\n",
       " 'maketrans',\n",
       " 'partition',\n",
       " 'removeprefix',\n",
       " 'removesuffix',\n",
       " 'replace',\n",
       " 'rfind',\n",
       " 'rindex',\n",
       " 'rjust',\n",
       " 'rpartition',\n",
       " 'rsplit',\n",
       " 'rstrip',\n",
       " 'split',\n",
       " 'splitlines',\n",
       " 'startswith',\n",
       " 'strip',\n",
       " 'swapcase',\n",
       " 'title',\n",
       " 'translate',\n",
       " 'upper',\n",
       " 'zfill']"
      ]
     },
     "execution_count": 6,
     "metadata": {},
     "output_type": "execute_result"
    }
   ],
   "source": [
    "dir(string) #daftar method untuk class string"
   ]
  },
  {
   "cell_type": "code",
   "execution_count": 7,
   "id": "91891ecc-6f2d-4405-893e-5b38ea63ad87",
   "metadata": {},
   "outputs": [
    {
     "data": {
      "text/plain": [
       "['__abs__',\n",
       " '__add__',\n",
       " '__and__',\n",
       " '__bool__',\n",
       " '__ceil__',\n",
       " '__class__',\n",
       " '__delattr__',\n",
       " '__dir__',\n",
       " '__divmod__',\n",
       " '__doc__',\n",
       " '__eq__',\n",
       " '__float__',\n",
       " '__floor__',\n",
       " '__floordiv__',\n",
       " '__format__',\n",
       " '__ge__',\n",
       " '__getattribute__',\n",
       " '__getnewargs__',\n",
       " '__gt__',\n",
       " '__hash__',\n",
       " '__index__',\n",
       " '__init__',\n",
       " '__init_subclass__',\n",
       " '__int__',\n",
       " '__invert__',\n",
       " '__le__',\n",
       " '__lshift__',\n",
       " '__lt__',\n",
       " '__mod__',\n",
       " '__mul__',\n",
       " '__ne__',\n",
       " '__neg__',\n",
       " '__new__',\n",
       " '__or__',\n",
       " '__pos__',\n",
       " '__pow__',\n",
       " '__radd__',\n",
       " '__rand__',\n",
       " '__rdivmod__',\n",
       " '__reduce__',\n",
       " '__reduce_ex__',\n",
       " '__repr__',\n",
       " '__rfloordiv__',\n",
       " '__rlshift__',\n",
       " '__rmod__',\n",
       " '__rmul__',\n",
       " '__ror__',\n",
       " '__round__',\n",
       " '__rpow__',\n",
       " '__rrshift__',\n",
       " '__rshift__',\n",
       " '__rsub__',\n",
       " '__rtruediv__',\n",
       " '__rxor__',\n",
       " '__setattr__',\n",
       " '__sizeof__',\n",
       " '__str__',\n",
       " '__sub__',\n",
       " '__subclasshook__',\n",
       " '__truediv__',\n",
       " '__trunc__',\n",
       " '__xor__',\n",
       " 'as_integer_ratio',\n",
       " 'bit_length',\n",
       " 'conjugate',\n",
       " 'denominator',\n",
       " 'from_bytes',\n",
       " 'imag',\n",
       " 'numerator',\n",
       " 'real',\n",
       " 'to_bytes']"
      ]
     },
     "execution_count": 7,
     "metadata": {},
     "output_type": "execute_result"
    }
   ],
   "source": [
    "dir(x) #daftar method untuk class int (variable x)"
   ]
  },
  {
   "cell_type": "code",
   "execution_count": 8,
   "id": "7445cc2d-b736-4193-b024-7881dae7c56b",
   "metadata": {},
   "outputs": [
    {
     "data": {
      "text/plain": [
       "'selamat malam'"
      ]
     },
     "execution_count": 8,
     "metadata": {},
     "output_type": "execute_result"
    }
   ],
   "source": [
    "string.replace('siang', 'malam')"
   ]
  },
  {
   "cell_type": "code",
   "execution_count": 9,
   "id": "bf09ca41-6931-4b1a-9f31-75400eeed59b",
   "metadata": {},
   "outputs": [],
   "source": [
    "# Membuat kelas baru\n",
    "## Kelas adalah blueprint untuk objek\n",
    "## \n",
    "\n",
    "class NamaObjek:\n",
    "    def __init__(): # inisiasi class\n",
    "        pass"
   ]
  },
  {
   "cell_type": "code",
   "execution_count": 10,
   "id": "ab5f2ce4-2393-4762-af05-36d67a8e6f8b",
   "metadata": {},
   "outputs": [],
   "source": [
    "class Bunga:\n",
    "    def terlihat(self):\n",
    "        print('cantik')"
   ]
  },
  {
   "cell_type": "code",
   "execution_count": 11,
   "id": "9d222b47-4515-431e-bc3f-759f697a74ea",
   "metadata": {},
   "outputs": [],
   "source": [
    "# Membuat objek / menginisasi class\n",
    "b = Bunga()"
   ]
  },
  {
   "cell_type": "code",
   "execution_count": 12,
   "id": "070f1c68-858c-4584-ae27-16ebb05532ee",
   "metadata": {},
   "outputs": [
    {
     "name": "stdout",
     "output_type": "stream",
     "text": [
      "cantik\n"
     ]
    }
   ],
   "source": [
    "b.terlihat()"
   ]
  },
  {
   "cell_type": "code",
   "execution_count": 13,
   "id": "b5f792af-c43e-4677-8972-836937341e5d",
   "metadata": {},
   "outputs": [
    {
     "data": {
      "text/plain": [
       "['__class__',\n",
       " '__delattr__',\n",
       " '__dict__',\n",
       " '__dir__',\n",
       " '__doc__',\n",
       " '__eq__',\n",
       " '__format__',\n",
       " '__ge__',\n",
       " '__getattribute__',\n",
       " '__gt__',\n",
       " '__hash__',\n",
       " '__init__',\n",
       " '__init_subclass__',\n",
       " '__le__',\n",
       " '__lt__',\n",
       " '__module__',\n",
       " '__ne__',\n",
       " '__new__',\n",
       " '__reduce__',\n",
       " '__reduce_ex__',\n",
       " '__repr__',\n",
       " '__setattr__',\n",
       " '__sizeof__',\n",
       " '__str__',\n",
       " '__subclasshook__',\n",
       " '__weakref__',\n",
       " 'terlihat']"
      ]
     },
     "execution_count": 13,
     "metadata": {},
     "output_type": "execute_result"
    }
   ],
   "source": [
    "dir(Bunga)"
   ]
  },
  {
   "cell_type": "code",
   "execution_count": 14,
   "id": "80e878f5-b83d-4fe8-b82b-1b7e76521dbc",
   "metadata": {},
   "outputs": [
    {
     "name": "stdout",
     "output_type": "stream",
     "text": [
      "<class '__main__.Bunga'>\n"
     ]
    }
   ],
   "source": [
    "print(type(b))"
   ]
  },
  {
   "cell_type": "code",
   "execution_count": 15,
   "id": "362bd988-cb80-4796-b223-6a84ef1de78f",
   "metadata": {},
   "outputs": [],
   "source": [
    "class Bunga:\n",
    "    def terlihat(self):\n",
    "        print('cantik')\n",
    "        \n",
    "    def berbau(self):\n",
    "        return 'harum'\n",
    "    \n",
    "    def tambah_populasi(self, x):\n",
    "        return x + 1"
   ]
  },
  {
   "cell_type": "code",
   "execution_count": 16,
   "id": "2974c5a8-1a49-4d56-ada1-7ca4630d1e6b",
   "metadata": {},
   "outputs": [
    {
     "data": {
      "text/plain": [
       "'harum'"
      ]
     },
     "execution_count": 16,
     "metadata": {},
     "output_type": "execute_result"
    }
   ],
   "source": [
    "b = Bunga()\n",
    "b.berbau()"
   ]
  },
  {
   "cell_type": "code",
   "execution_count": 17,
   "id": "2a026245-8256-499b-a102-488482697fd6",
   "metadata": {},
   "outputs": [
    {
     "data": {
      "text/plain": [
       "11"
      ]
     },
     "execution_count": 17,
     "metadata": {},
     "output_type": "execute_result"
    }
   ],
   "source": [
    "b.tambah_populasi(10)"
   ]
  },
  {
   "cell_type": "code",
   "execution_count": 18,
   "id": "6d1c05b6-5b36-4e5c-a8cb-21108304eaaa",
   "metadata": {},
   "outputs": [],
   "source": [
    "# __init__\n",
    "## sebuah method (special) yang akan dipanggil secara otomatis ketika class diinisiasi\n",
    "\n",
    "class Bunga:\n",
    "    \n",
    "    def __init__(self,name):\n",
    "        self.name = name\n",
    "        print(f'Bunga ini bernama: {name}')\n",
    "    \n",
    "    def terlihat(self):\n",
    "        print('cantik')\n",
    "        \n",
    "    def berbau(self):\n",
    "        return 'harum'\n",
    "    \n",
    "    def tambah_populasi(self, x):\n",
    "        return x + 1"
   ]
  },
  {
   "cell_type": "code",
   "execution_count": 19,
   "id": "73b3ba05-75b5-4bc6-965c-d32d5361c46f",
   "metadata": {},
   "outputs": [
    {
     "name": "stdout",
     "output_type": "stream",
     "text": [
      "Bunga ini bernama: Matahari\n"
     ]
    }
   ],
   "source": [
    "b = Bunga('Matahari')"
   ]
  },
  {
   "cell_type": "code",
   "execution_count": 20,
   "id": "a3bfe46d-e643-4c4a-b50c-c901cad92657",
   "metadata": {},
   "outputs": [],
   "source": [
    "# __init__\n",
    "## special method yang akan dipanggil secara otomatis ketika class diinisiasi\n",
    "\n",
    "class Bunga:\n",
    "    \n",
    "    def __init__(self,name, umur,asal='Boyolali'): # Argumen, diconsider waktu menginisiasi fungsi __init__\n",
    "        # Attribute\n",
    "        self.name = name # Attribute\n",
    "        self.umur = umur # Attribute\n",
    "        self.asal = asal # Attribute\n",
    "        self.isWangi = True # Attribute\n",
    "        print(f'Bunga ini bernama: {name}')\n",
    "    \n",
    "    def terlihat(self):\n",
    "        print('cantik')\n",
    "        \n",
    "    def berbau(self):\n",
    "        return 'harum'\n",
    "    \n",
    "    def tambah_populasi(self, x):\n",
    "        return x + 1"
   ]
  },
  {
   "cell_type": "code",
   "execution_count": 21,
   "id": "9cd10d05-9203-4173-893e-b1f7acaa6e67",
   "metadata": {},
   "outputs": [
    {
     "name": "stdout",
     "output_type": "stream",
     "text": [
      "Bunga ini bernama: Matahari\n"
     ]
    }
   ],
   "source": [
    "b = Bunga('Matahari', 2)"
   ]
  },
  {
   "cell_type": "code",
   "execution_count": 22,
   "id": "fec6e742-02df-49ba-9ed6-afb6019d8ee8",
   "metadata": {},
   "outputs": [
    {
     "data": {
      "text/plain": [
       "('Boyolali', 'Matahari', 2)"
      ]
     },
     "execution_count": 22,
     "metadata": {},
     "output_type": "execute_result"
    }
   ],
   "source": [
    "b.asal, b.name, b.umur"
   ]
  },
  {
   "cell_type": "code",
   "execution_count": 23,
   "id": "09823d12-15e7-45f9-9c26-61f6f0a4f177",
   "metadata": {},
   "outputs": [
    {
     "data": {
      "text/plain": [
       "True"
      ]
     },
     "execution_count": 23,
     "metadata": {},
     "output_type": "execute_result"
    }
   ],
   "source": [
    "b.isWangi"
   ]
  },
  {
   "cell_type": "code",
   "execution_count": 24,
   "id": "4b6d901d-2561-40c6-949c-2eb1abfb6d2b",
   "metadata": {},
   "outputs": [],
   "source": [
    "# Mengapa class diperlukan?\n",
    "\n",
    "s = 'string'\n",
    "s_upper = 'STRING'\n",
    "s_first_letter = 's'"
   ]
  },
  {
   "cell_type": "code",
   "execution_count": 25,
   "id": "cf2fd90b-05bf-4078-acfd-5d2f75fe6070",
   "metadata": {},
   "outputs": [
    {
     "name": "stdout",
     "output_type": "stream",
     "text": [
      "Bunga ini bernama: Sepatu\n"
     ]
    }
   ],
   "source": [
    "b2 = Bunga('Sepatu',2)"
   ]
  },
  {
   "cell_type": "code",
   "execution_count": 26,
   "id": "f1b8033c-1c12-4390-b9b6-745a486b6941",
   "metadata": {},
   "outputs": [],
   "source": [
    "x = 1\n",
    "y = 2"
   ]
  },
  {
   "cell_type": "code",
   "execution_count": 27,
   "id": "ff9689ae-4cd4-4acc-9eb3-9558c87605c9",
   "metadata": {},
   "outputs": [],
   "source": [
    "# Method biasanya dijaga tidak berubah\n",
    "\n",
    "class Bunga:\n",
    "    \n",
    "    def __init__(self,name_lengkap, umur,asal='Boyolali'): # Argumen, diconsider waktu menginisiasi fungsi __init__\n",
    "        # Attribute\n",
    "        self.name_lengkap = name_lengkap # Attribute\n",
    "        self.umur = umur # Attribute\n",
    "        self.asal = asal # Attribute\n",
    "        self.isWangi = True # Attribute\n",
    "        print(f'Bunga ini bernama: {name_lengkap}')\n",
    "    \n",
    "    def terlihat(self):\n",
    "        print('cantik')\n",
    "        \n",
    "    def berbau(self):\n",
    "        return 'harum'\n",
    "    \n",
    "    def tambah_populasi(self, x):\n",
    "        return x + 1\n",
    "    \n",
    "    def get_name(self):  # Method ini dipakai untuk standarisasi mengambil data dari objek\n",
    "        return self.name_lengkap\n",
    "    \n",
    "    def get_umur(self):\n",
    "        return self.umur\n",
    "    \n",
    "# Lebih baik menambah objek atau method daripada mengubah, supaya fitur yang sudah berjalan bisa tetap berjalan seperti sebelumnya.\n",
    "# Membuat objek/method baru lebih simple dari mengubahnya"
   ]
  },
  {
   "cell_type": "code",
   "execution_count": 28,
   "id": "333cb8ad-1550-4f0e-9de3-bd77db71ac04",
   "metadata": {},
   "outputs": [
    {
     "name": "stdout",
     "output_type": "stream",
     "text": [
      "Bunga ini bernama: Matahari\n"
     ]
    },
    {
     "data": {
      "text/plain": [
       "2"
      ]
     },
     "execution_count": 28,
     "metadata": {},
     "output_type": "execute_result"
    }
   ],
   "source": [
    "b = Bunga('Matahari', 2)\n",
    "b.berbau()\n",
    "b.get_umur()"
   ]
  },
  {
   "cell_type": "code",
   "execution_count": 29,
   "id": "216705c7-1d8e-47bb-89f5-7bb22ff12ced",
   "metadata": {},
   "outputs": [
    {
     "data": {
      "text/plain": [
       "'Matahari'"
      ]
     },
     "execution_count": 29,
     "metadata": {},
     "output_type": "execute_result"
    }
   ],
   "source": [
    "b.get_name()\n",
    "\n",
    "# Django mempermudah migrasi aplikasi. \n",
    "# Django bagus untuk membuat websita dan aplikasi online"
   ]
  },
  {
   "cell_type": "code",
   "execution_count": 32,
   "id": "993aa127-8f0d-454b-ac7f-fe8543bc40e8",
   "metadata": {},
   "outputs": [],
   "source": [
    "class Bunga:\n",
    "    \n",
    "    def __init__(self,name_lengkap, umur,asal='Boyolali'): # Argumen, diconsider waktu menginisiasi fungsi __init__\n",
    "        # Attribute\n",
    "        self.name_lengkap = name_lengkap # Attribute\n",
    "        self.umur = umur # Attribute\n",
    "        self.asal = asal # Attribute\n",
    "        self.isWangi = True # Attribute\n",
    "        print(f'Bunga ini bernama: {name_lengkap}')\n",
    "    \n",
    "    def terlihat(): #Self digunakan untuk merefer ke objek class Bunga yang diinisiasi. Bila self tidak ada, method tidak bisa dipanggil\n",
    "        print('cantik')\n",
    "        "
   ]
  },
  {
   "cell_type": "code",
   "execution_count": 33,
   "id": "04ae641f-3fe1-4d4e-9f0b-fe3a27bc03b6",
   "metadata": {},
   "outputs": [
    {
     "name": "stdout",
     "output_type": "stream",
     "text": [
      "Bunga ini bernama: Matahari\n"
     ]
    },
    {
     "ename": "TypeError",
     "evalue": "terlihat() takes 0 positional arguments but 1 was given",
     "output_type": "error",
     "traceback": [
      "\u001b[0;31m---------------------------------------------------------------------------\u001b[0m",
      "\u001b[0;31mTypeError\u001b[0m                                 Traceback (most recent call last)",
      "\u001b[0;32m<ipython-input-33-ac799bef57b1>\u001b[0m in \u001b[0;36m<module>\u001b[0;34m\u001b[0m\n\u001b[1;32m      1\u001b[0m \u001b[0mb\u001b[0m \u001b[0;34m=\u001b[0m \u001b[0mBunga\u001b[0m\u001b[0;34m(\u001b[0m\u001b[0;34m'Matahari'\u001b[0m\u001b[0;34m,\u001b[0m\u001b[0;36m2\u001b[0m\u001b[0;34m)\u001b[0m\u001b[0;34m\u001b[0m\u001b[0;34m\u001b[0m\u001b[0m\n\u001b[0;32m----> 2\u001b[0;31m \u001b[0mb\u001b[0m\u001b[0;34m.\u001b[0m\u001b[0mterlihat\u001b[0m\u001b[0;34m(\u001b[0m\u001b[0;34m)\u001b[0m\u001b[0;34m\u001b[0m\u001b[0;34m\u001b[0m\u001b[0m\n\u001b[0m",
      "\u001b[0;31mTypeError\u001b[0m: terlihat() takes 0 positional arguments but 1 was given"
     ]
    }
   ],
   "source": [
    "b = Bunga('Matahari',2)\n",
    "b.terlihat()"
   ]
  },
  {
   "cell_type": "code",
   "execution_count": 34,
   "id": "6f2fae3e-e2bf-42ab-812d-2770bf16b291",
   "metadata": {},
   "outputs": [],
   "source": [
    "class Bunga:\n",
    "    \n",
    "    def __init__(self,name, umur,asal='Boyolali'): # Argumen, diconsider waktu menginisiasi fungsi __init__\n",
    "        # Attribute\n",
    "        self.name = name # Attribute\n",
    "        self.umur = umur # Attribute\n",
    "        self.asal = asal # Attribute\n",
    "        self.isWangi = True # Attribute\n",
    "        print(f'Bunga ini bernama: {name}')\n",
    "            \n",
    "    def get_name(self):\n",
    "        return self.name\n",
    "    \n",
    "    def set_name(self, new_name):\n",
    "        self.name = new_name\n",
    "        \n",
    "    "
   ]
  },
  {
   "cell_type": "code",
   "execution_count": 35,
   "id": "7c835f7a-aba5-460e-9502-6820fc785adc",
   "metadata": {},
   "outputs": [
    {
     "name": "stdout",
     "output_type": "stream",
     "text": [
      "Bunga ini bernama: matahari\n"
     ]
    }
   ],
   "source": [
    "b = Bunga('matahari',2)"
   ]
  },
  {
   "cell_type": "code",
   "execution_count": 36,
   "id": "2cedbb2c-018b-40bc-b18a-03f4f98fc2f3",
   "metadata": {},
   "outputs": [],
   "source": [
    "b.set_name('matahora')"
   ]
  },
  {
   "cell_type": "code",
   "execution_count": 37,
   "id": "c6d8e203-910e-4611-a2a4-bf4a6a7e11f4",
   "metadata": {},
   "outputs": [
    {
     "data": {
      "text/plain": [
       "'matahora'"
      ]
     },
     "execution_count": 37,
     "metadata": {},
     "output_type": "execute_result"
    }
   ],
   "source": [
    "b.get_name()\n",
    "# Mengapa bikin fungsi method? Supaya tidak terpengaruh perubahan variable attribute"
   ]
  },
  {
   "cell_type": "code",
   "execution_count": 38,
   "id": "59db7d9a-ced6-4906-894d-7daab874d1b6",
   "metadata": {},
   "outputs": [],
   "source": [
    "class Kebun:\n",
    "    # Kebun yang bisa ditanami banyak bunga\n",
    "    \n",
    "    def __init__(self, name, max_tanam):\n",
    "        self.name = name\n",
    "        self.max_tanam = max_tanam\n",
    "        self.bunga = []\n",
    "        self.is_panen = False\n",
    "    \n",
    "    def add_bunga(self, bunga):\n",
    "        if len(self.bunga) < self.max_tanam:\n",
    "            self.bunga.append(bunga)\n",
    "            return True\n",
    "        return False\n",
    "    \n",
    "    def get_rerata_kelopak(self):\n",
    "        pass\n",
    "        "
   ]
  },
  {
   "cell_type": "code",
   "execution_count": 39,
   "id": "64ce1f8c-4a42-4951-9283-ce97da5fee6b",
   "metadata": {},
   "outputs": [],
   "source": [
    "k = Kebun('bungaku', 2)"
   ]
  },
  {
   "cell_type": "code",
   "execution_count": 40,
   "id": "36879b05-6b21-4b3e-bb6b-88e0fb257132",
   "metadata": {},
   "outputs": [
    {
     "name": "stdout",
     "output_type": "stream",
     "text": [
      "Bunga ini bernama: Matahari\n",
      "Bunga ini bernama: Sepatu\n",
      "Bunga ini bernama: Bogenfil\n"
     ]
    }
   ],
   "source": [
    "b1 = Bunga('Matahari', 2)\n",
    "b2 = Bunga('Sepatu', 1)\n",
    "b3 = Bunga('Bogenfil', 3)"
   ]
  },
  {
   "cell_type": "code",
   "execution_count": 41,
   "id": "9ef1b5dd-81e9-4df4-a150-7acd9af92053",
   "metadata": {},
   "outputs": [
    {
     "data": {
      "text/plain": [
       "True"
      ]
     },
     "execution_count": 41,
     "metadata": {},
     "output_type": "execute_result"
    }
   ],
   "source": [
    "## Objek bisa jadi attribut (input) buat objek lain\n",
    "k.add_bunga(b1)"
   ]
  },
  {
   "cell_type": "code",
   "execution_count": 42,
   "id": "19e4b381-95d3-434a-b0af-740139c7ee6c",
   "metadata": {},
   "outputs": [
    {
     "data": {
      "text/plain": [
       "True"
      ]
     },
     "execution_count": 42,
     "metadata": {},
     "output_type": "execute_result"
    }
   ],
   "source": [
    "k.add_bunga(b2)"
   ]
  },
  {
   "cell_type": "code",
   "execution_count": 43,
   "id": "4f5ac998-5ccc-4fb5-90ff-28cb34259e28",
   "metadata": {},
   "outputs": [
    {
     "data": {
      "text/plain": [
       "False"
      ]
     },
     "execution_count": 43,
     "metadata": {},
     "output_type": "execute_result"
    }
   ],
   "source": [
    "k.add_bunga(b3)"
   ]
  },
  {
   "cell_type": "code",
   "execution_count": 44,
   "id": "c877c239-82e0-48a0-8e2b-925fe5ef59f2",
   "metadata": {},
   "outputs": [
    {
     "data": {
      "text/plain": [
       "list"
      ]
     },
     "execution_count": 44,
     "metadata": {},
     "output_type": "execute_result"
    }
   ],
   "source": [
    "type(k.bunga)"
   ]
  },
  {
   "cell_type": "code",
   "execution_count": 45,
   "id": "38d03999-703c-4ebc-852c-a2a365d17226",
   "metadata": {},
   "outputs": [
    {
     "data": {
      "text/plain": [
       "__main__.Bunga"
      ]
     },
     "execution_count": 45,
     "metadata": {},
     "output_type": "execute_result"
    }
   ],
   "source": [
    "type(k.bunga[0])"
   ]
  },
  {
   "cell_type": "code",
   "execution_count": 46,
   "id": "a4535ce0-41ef-4280-ab0d-4c193f48ff8b",
   "metadata": {},
   "outputs": [
    {
     "data": {
      "text/plain": [
       "True"
      ]
     },
     "execution_count": 46,
     "metadata": {},
     "output_type": "execute_result"
    }
   ],
   "source": [
    "k.bunga[0].isWangi"
   ]
  },
  {
   "cell_type": "code",
   "execution_count": 47,
   "id": "6b87bc08-8034-46f4-ab51-5a45557c080c",
   "metadata": {},
   "outputs": [],
   "source": [
    "class Kebun:\n",
    "    # Kebun yang bisa ditanami banyak bunga\n",
    "    \n",
    "    def __init__(self, name, max_tanam):\n",
    "        self.name = name\n",
    "        self.max_tanam = max_tanam\n",
    "        self.bunga = []\n",
    "        self.is_panen = False\n",
    "    \n",
    "    def add_bunga(self, bunga):\n",
    "        if len(self.bunga) < self.max_tanam:\n",
    "            self.bunga.append(bunga)\n",
    "            return True\n",
    "        return False\n",
    "    \n",
    "    def get_rerata_kelopak(self):\n",
    "        pass\n",
    "    \n",
    "    def fungsi(self, s):\n",
    "        print(\"Apakah bisa?\")\n",
    "        \n",
    "        def subfungsi(self):\n",
    "            s = s + 'asyk'\n",
    "            return s\n",
    "        \n",
    "        return subfungsi()\n",
    "        "
   ]
  },
  {
   "cell_type": "code",
   "execution_count": 48,
   "id": "0e794888-2844-4b08-9d93-7d0c75b8a496",
   "metadata": {},
   "outputs": [],
   "source": [
    "k = Kebun(\"kebunku\",10)"
   ]
  },
  {
   "cell_type": "code",
   "execution_count": 49,
   "id": "c1d268b1-43f7-4dd8-8a96-04eaf73f6870",
   "metadata": {},
   "outputs": [
    {
     "ename": "TypeError",
     "evalue": "fungsi() takes 2 positional arguments but 3 were given",
     "output_type": "error",
     "traceback": [
      "\u001b[0;31m---------------------------------------------------------------------------\u001b[0m",
      "\u001b[0;31mTypeError\u001b[0m                                 Traceback (most recent call last)",
      "\u001b[0;32m<ipython-input-49-b83b9007b8e6>\u001b[0m in \u001b[0;36m<module>\u001b[0;34m\u001b[0m\n\u001b[0;32m----> 1\u001b[0;31m \u001b[0mk\u001b[0m\u001b[0;34m.\u001b[0m\u001b[0mfungsi\u001b[0m\u001b[0;34m(\u001b[0m\u001b[0;34m'mawar'\u001b[0m\u001b[0;34m,\u001b[0m\u001b[0;36m1\u001b[0m\u001b[0;34m)\u001b[0m\u001b[0;34m\u001b[0m\u001b[0;34m\u001b[0m\u001b[0m\n\u001b[0m",
      "\u001b[0;31mTypeError\u001b[0m: fungsi() takes 2 positional arguments but 3 were given"
     ]
    }
   ],
   "source": [
    "k.fungsi('mawar',1)"
   ]
  },
  {
   "cell_type": "code",
   "execution_count": 50,
   "id": "a34a635f-97d2-489b-a6d6-062d514039e0",
   "metadata": {},
   "outputs": [
    {
     "ename": "TypeError",
     "evalue": "fungsi() missing 1 required positional argument: 's'",
     "output_type": "error",
     "traceback": [
      "\u001b[0;31m---------------------------------------------------------------------------\u001b[0m",
      "\u001b[0;31mTypeError\u001b[0m                                 Traceback (most recent call last)",
      "\u001b[0;32m<ipython-input-50-4d7b1c407eed>\u001b[0m in \u001b[0;36m<module>\u001b[0;34m\u001b[0m\n\u001b[0;32m----> 1\u001b[0;31m \u001b[0mk\u001b[0m\u001b[0;34m.\u001b[0m\u001b[0mfungsi\u001b[0m\u001b[0;34m(\u001b[0m\u001b[0;34m)\u001b[0m\u001b[0;34m.\u001b[0m\u001b[0msubfungsi\u001b[0m\u001b[0;34m(\u001b[0m\u001b[0;34m)\u001b[0m\u001b[0;34m\u001b[0m\u001b[0;34m\u001b[0m\u001b[0m\n\u001b[0m\u001b[1;32m      2\u001b[0m \u001b[0;31m## Coba subfungsi di dalam fungsi\u001b[0m\u001b[0;34m\u001b[0m\u001b[0;34m\u001b[0m\u001b[0;34m\u001b[0m\u001b[0m\n",
      "\u001b[0;31mTypeError\u001b[0m: fungsi() missing 1 required positional argument: 's'"
     ]
    }
   ],
   "source": [
    "k.fungsi().subfungsi()\n",
    "## Coba subfungsi di dalam fungsi"
   ]
  },
  {
   "cell_type": "code",
   "execution_count": 51,
   "id": "a833ea16-21df-4a09-b2f0-0adea08751fe",
   "metadata": {},
   "outputs": [
    {
     "data": {
      "text/plain": [
       "'a asykstring'"
      ]
     },
     "execution_count": 51,
     "metadata": {},
     "output_type": "execute_result"
    }
   ],
   "source": [
    "def fungsi(self, s):\n",
    "    m = \"Hai\"\n",
    "    def subfungsi(self, m, s):\n",
    "        s = s + \" asyk\" + self\n",
    "        return s\n",
    "    \n",
    "    return subfungsi(self, m, s)\n",
    "\n",
    "fungsi('string', 'a')"
   ]
  },
  {
   "cell_type": "code",
   "execution_count": 52,
   "id": "e0c8f573-b367-405b-ae21-21dfa89c39db",
   "metadata": {},
   "outputs": [
    {
     "data": {
      "text/plain": [
       "__main__.Kebun"
      ]
     },
     "execution_count": 52,
     "metadata": {},
     "output_type": "execute_result"
    }
   ],
   "source": [
    "type(k)"
   ]
  },
  {
   "cell_type": "code",
   "execution_count": 53,
   "id": "7a4a28c3-74c1-4497-96cf-54853fc417b6",
   "metadata": {},
   "outputs": [],
   "source": [
    "# Konsep Inheritance\n",
    "## Fungsinya untuk mengambil variable attribute atau fungsi yang sama dari class lain \n",
    "\n",
    "class  Matahari:\n",
    "    def __init__(self, name, age):\n",
    "        self.name = name\n",
    "        self.age = age\n",
    "        \n",
    "    def get_asal(self):\n",
    "        print('boyolali')\n",
    "        \n",
    "class Sepatu():\n",
    "    def __init__(self, name, age):\n",
    "        self.name = name\n",
    "        self.age = age\n",
    "        \n",
    "    def get_asal(self):\n",
    "        print('cilacap')"
   ]
  },
  {
   "cell_type": "code",
   "execution_count": 54,
   "id": "4536dba2-da2d-4bd6-9456-4a655842e0dd",
   "metadata": {},
   "outputs": [],
   "source": [
    "class  Matahari:\n",
    "        \n",
    "    def get_asal(self):\n",
    "        print('boyolali')\n",
    "        \n",
    "class Sepatu():\n",
    "        \n",
    "    def get_asal(self):\n",
    "        print('cilacap')"
   ]
  },
  {
   "cell_type": "code",
   "execution_count": 316,
   "id": "297b4d40-aec4-4255-9949-994823519e4c",
   "metadata": {},
   "outputs": [
    {
     "name": "stdout",
     "output_type": "stream",
     "text": [
      "ini adalah bunga Matahari berumur 12\n"
     ]
    }
   ],
   "source": [
    "## Refractory\n",
    "class Bunga:\n",
    "    \n",
    "    def __init__(self, name, age):\n",
    "        self.name = name\n",
    "        self.age = age\n",
    "\n",
    "    def lihat(self):\n",
    "        print(f'ini adalah bunga {self.name} berumur {self.age}')\n",
    "        \n",
    "    def get_asal(self):\n",
    "        print(\"Bunga ini tidak diketahui dari mana\")\n",
    "        \n",
    "class  Matahari(Bunga):\n",
    "        \n",
    "    def get_asal(self):\n",
    "        print('boyolali')\n",
    "        \n",
    "class Sepatu(Bunga):\n",
    "        \n",
    "    def get_asal(self):\n",
    "        print('cilacap')\n",
    "        \n",
    "p = Bunga('Matahari',12)\n",
    "p.lihat()"
   ]
  },
  {
   "cell_type": "code",
   "execution_count": 317,
   "id": "99bb3c24-f141-4449-88fa-906b30b6ded3",
   "metadata": {},
   "outputs": [
    {
     "name": "stdout",
     "output_type": "stream",
     "text": [
      "ini adalah bunga matahari berumur 2\n"
     ]
    }
   ],
   "source": [
    "m = Matahari('matahari',2)\n",
    "m.lihat()"
   ]
  },
  {
   "cell_type": "code",
   "execution_count": 318,
   "id": "2e92f87e-b5b6-47a4-b43c-2952e817ca76",
   "metadata": {},
   "outputs": [
    {
     "data": {
      "text/plain": [
       "'matahari'"
      ]
     },
     "execution_count": 318,
     "metadata": {},
     "output_type": "execute_result"
    }
   ],
   "source": [
    "m.name #attribute name dimiliki juga oleh diobjek m, (class Matahari) "
   ]
  },
  {
   "cell_type": "code",
   "execution_count": 319,
   "id": "3d1d2336-bcaf-4179-b2e3-6736cbab525f",
   "metadata": {},
   "outputs": [
    {
     "name": "stdout",
     "output_type": "stream",
     "text": [
      "Bunga ini tidak diketahui dari mana\n"
     ]
    }
   ],
   "source": [
    "p.get_asal()"
   ]
  },
  {
   "cell_type": "code",
   "execution_count": 321,
   "id": "e73e2407-6281-43ce-bdb3-a78f063a0787",
   "metadata": {},
   "outputs": [
    {
     "name": "stdout",
     "output_type": "stream",
     "text": [
      "boyolali\n"
     ]
    }
   ],
   "source": [
    "m.get_asal() #fungsi di lokal class lebih diutamakan daripada fungsi di class induk"
   ]
  },
  {
   "cell_type": "code",
   "execution_count": 325,
   "id": "3484f27d-733e-4acd-98ed-3ae865d4a246",
   "metadata": {},
   "outputs": [
    {
     "data": {
      "text/plain": [
       "'Matahari kecil'"
      ]
     },
     "execution_count": 325,
     "metadata": {},
     "output_type": "execute_result"
    }
   ],
   "source": [
    "## Refractory\n",
    "class Bunga:\n",
    "    \n",
    "    def __init__(self, name, age):\n",
    "        self.name = name\n",
    "        self.age = age\n",
    "\n",
    "    def lihat(self):\n",
    "        print(f'ini adalah bunga {self.name} berumur {self.age}')\n",
    "        \n",
    "    def get_asal(self):\n",
    "        print(\"Bunga ini tidak diketahui dari mana\")\n",
    "        \n",
    "class  Matahari(Bunga):\n",
    "    \n",
    "    def __init__(self, name, age, warna):\n",
    "        #self.name = name\n",
    "        #self.age = age\n",
    "        super().__init__(name, age)\n",
    "        self.warna = warna\n",
    "        \n",
    "    def get_asal(self):\n",
    "        print('boyolali')\n",
    "        \n",
    "class Sepatu(Bunga):\n",
    "        \n",
    "    def get_asal(self):\n",
    "        print('cilacap')\n",
    "        \n",
    "p = Matahari('Matahari kecil',12, 'merah')\n",
    "p.name"
   ]
  },
  {
   "cell_type": "code",
   "execution_count": 326,
   "id": "0be6c02c-1dbc-4724-ae84-b4df7faaf2d7",
   "metadata": {},
   "outputs": [
    {
     "data": {
      "text/plain": [
       "'merah'"
      ]
     },
     "execution_count": 326,
     "metadata": {},
     "output_type": "execute_result"
    }
   ],
   "source": [
    "p.warna"
   ]
  },
  {
   "cell_type": "code",
   "execution_count": null,
   "id": "cacebd81-7152-413b-823e-9b6764a73fd8",
   "metadata": {},
   "outputs": [],
   "source": [
    "# Class attribute\n",
    "\n",
    "p = Matahari('Matahari kecil',12, 'merah')\n",
    "# p: objek\n",
    "# Matahari: class\n",
    "# 'Matahari kecil', 12, 'merah': attribute\n",
    "\n",
    "class Melati:\n",
    "    jumlah_kelopak = 3 # Class Attribute (atribut dari kelas), dimiliki kelas, exist tanpa perlu inisiasi instance/objek\n",
    "    \n",
    "    def __init__(self, name):\n",
    "        self.name = name\n",
    "        \n",
    "m1 = Melati('putih') # instace itu adalah objek yang berkelas/tipe Melati\n",
    "m2 = Melati('merah')"
   ]
  },
  {
   "cell_type": "code",
   "execution_count": 331,
   "id": "3a9ade03-0c3b-4fbb-ab6c-14b8be7ac42e",
   "metadata": {},
   "outputs": [
    {
     "data": {
      "text/plain": [
       "(3, 3)"
      ]
     },
     "execution_count": 331,
     "metadata": {},
     "output_type": "execute_result"
    }
   ],
   "source": [
    "m1.jumlah_kelopak, m2.jumlah_kelopak"
   ]
  },
  {
   "cell_type": "code",
   "execution_count": 332,
   "id": "68bd1d39-879f-4480-9abf-db94b4282ad4",
   "metadata": {},
   "outputs": [],
   "source": [
    "Melati.jumlah_kelopak = 10 # Class Attribute dari kelas Melati"
   ]
  },
  {
   "cell_type": "code",
   "execution_count": 333,
   "id": "f2673f1e-ef5c-4c79-a8a8-2487b4aec266",
   "metadata": {},
   "outputs": [
    {
     "data": {
      "text/plain": [
       "10"
      ]
     },
     "execution_count": 333,
     "metadata": {},
     "output_type": "execute_result"
    }
   ],
   "source": [
    "Melati.jumlah_kelopak"
   ]
  },
  {
   "cell_type": "code",
   "execution_count": 334,
   "id": "2c664e88-6d75-42ba-9738-db622d86eb2b",
   "metadata": {},
   "outputs": [
    {
     "data": {
      "text/plain": [
       "'putih'"
      ]
     },
     "execution_count": 334,
     "metadata": {},
     "output_type": "execute_result"
    }
   ],
   "source": [
    "m1.name "
   ]
  },
  {
   "cell_type": "code",
   "execution_count": 335,
   "id": "2be56c40-e407-49a4-aa23-16cf75573277",
   "metadata": {},
   "outputs": [
    {
     "data": {
      "text/plain": [
       "'biru'"
      ]
     },
     "execution_count": 335,
     "metadata": {},
     "output_type": "execute_result"
    }
   ],
   "source": [
    "m1.name = 'biru'\n",
    "m1.name"
   ]
  },
  {
   "cell_type": "code",
   "execution_count": 376,
   "id": "51352753-1dce-4c66-a283-d7b04b0ccb92",
   "metadata": {},
   "outputs": [],
   "source": [
    "# Class Method\n",
    "# Class Attribute\n",
    "\n",
    "class Melati:\n",
    "    jumlah_kelopak = 3\n",
    "    \n",
    "    def __init__(self, name):\n",
    "        self.name = name\n",
    "        \n",
    "    def __str__():\n",
    "        return 'Ini adalah kelas Melati'\n",
    "    \n",
    "    @classmethod #wajib ada untuk bikin class method\n",
    "    def jumlah_kelopaks(cls):\n",
    "        return cls.jumlah_kelopak\n",
    "    \n",
    "m1 = Melati('putih') # instace itu adalah objek yang berkelas/tipe Melati\n",
    "m2 = Melati('merah')    "
   ]
  },
  {
   "cell_type": "code",
   "execution_count": 377,
   "id": "b5f1e10f-df39-4b64-95e1-52633495d826",
   "metadata": {},
   "outputs": [
    {
     "data": {
      "text/plain": [
       "3"
      ]
     },
     "execution_count": 377,
     "metadata": {},
     "output_type": "execute_result"
    }
   ],
   "source": [
    "Melati.jumlah_kelopaks() # class method"
   ]
  },
  {
   "cell_type": "code",
   "execution_count": 345,
   "id": "177f335a-2f6a-4a8e-b261-d46a39f7b5fc",
   "metadata": {},
   "outputs": [
    {
     "data": {
      "text/plain": [
       "3"
      ]
     },
     "execution_count": 345,
     "metadata": {},
     "output_type": "execute_result"
    }
   ],
   "source": [
    "Melati.jumlah_kelopak # class attribute"
   ]
  },
  {
   "cell_type": "code",
   "execution_count": 363,
   "id": "33238f46-3db5-44df-b5b2-d9c9793cc727",
   "metadata": {},
   "outputs": [],
   "source": [
    "# Static Method\n",
    "class Math:\n",
    "    @staticmethod #wajib ada\n",
    "    def jumlah1(x):\n",
    "        return x + 1 \n",
    "    \n",
    "    @staticmethod\n",
    "    def bagi2(x):\n",
    "        return x/2\n",
    "    \n",
    "    @staticmethod\n",
    "    def kali3(x):\n",
    "        return x * 3 \n",
    "    \n",
    "    def pangkat(x):\n",
    "        return x**2\n",
    "    "
   ]
  },
  {
   "cell_type": "code",
   "execution_count": 360,
   "id": "4b9b74cf-f090-4a0d-b516-90bbbf7d4de5",
   "metadata": {},
   "outputs": [
    {
     "data": {
      "text/plain": [
       "91"
      ]
     },
     "execution_count": 360,
     "metadata": {},
     "output_type": "execute_result"
    }
   ],
   "source": [
    "Math.jumlah1(90)"
   ]
  },
  {
   "cell_type": "code",
   "execution_count": 361,
   "id": "6ed81bf8-4388-4fb3-83ab-d39f7eed8178",
   "metadata": {},
   "outputs": [
    {
     "data": {
      "text/plain": [
       "45.0"
      ]
     },
     "execution_count": 361,
     "metadata": {},
     "output_type": "execute_result"
    }
   ],
   "source": [
    "Math.bagi2(90)"
   ]
  },
  {
   "cell_type": "code",
   "execution_count": 362,
   "id": "850bed7b-9789-4ec1-bc05-a522a3070c8f",
   "metadata": {},
   "outputs": [
    {
     "data": {
      "text/plain": [
       "270"
      ]
     },
     "execution_count": 362,
     "metadata": {},
     "output_type": "execute_result"
    }
   ],
   "source": [
    "Math.kali3(90)"
   ]
  },
  {
   "cell_type": "code",
   "execution_count": 364,
   "id": "e12b08f3-ae5a-48e0-8254-8a0fd3ec9523",
   "metadata": {},
   "outputs": [
    {
     "data": {
      "text/plain": [
       "49"
      ]
     },
     "execution_count": 364,
     "metadata": {},
     "output_type": "execute_result"
    }
   ],
   "source": [
    "Math.pangkat(7)"
   ]
  },
  {
   "cell_type": "code",
   "execution_count": 366,
   "id": "d1992840-12e0-4cfd-9a7e-24afc865e8a6",
   "metadata": {
    "collapsed": true,
    "jupyter": {
     "outputs_hidden": true
    },
    "tags": []
   },
   "outputs": [
    {
     "data": {
      "text/plain": [
       "['__class__',\n",
       " '__delattr__',\n",
       " '__dict__',\n",
       " '__dir__',\n",
       " '__doc__',\n",
       " '__eq__',\n",
       " '__format__',\n",
       " '__ge__',\n",
       " '__getattribute__',\n",
       " '__gt__',\n",
       " '__hash__',\n",
       " '__init__',\n",
       " '__init_subclass__',\n",
       " '__le__',\n",
       " '__lt__',\n",
       " '__module__',\n",
       " '__ne__',\n",
       " '__new__',\n",
       " '__reduce__',\n",
       " '__reduce_ex__',\n",
       " '__repr__',\n",
       " '__setattr__',\n",
       " '__sizeof__',\n",
       " '__str__',\n",
       " '__subclasshook__',\n",
       " '__weakref__',\n",
       " 'get_asal',\n",
       " 'lihat']"
      ]
     },
     "execution_count": 366,
     "metadata": {},
     "output_type": "execute_result"
    }
   ],
   "source": [
    "dir(Bunga)"
   ]
  },
  {
   "cell_type": "code",
   "execution_count": 378,
   "id": "e6fc9d3a-3078-44e9-a23c-e275ff2c5eeb",
   "metadata": {},
   "outputs": [
    {
     "data": {
      "text/plain": [
       "'Ini adalah kelas Melati'"
      ]
     },
     "execution_count": 378,
     "metadata": {},
     "output_type": "execute_result"
    }
   ],
   "source": [
    "Melati.__str__()"
   ]
  },
  {
   "cell_type": "markdown",
   "id": "a6c842bc-e0a7-45f8-80e1-8e7530a751fd",
   "metadata": {},
   "source": [
    "## Tugas:\n",
    "- Eksplor tentang class dan object\n",
    "- Identifikasi struktur OOP untuk kasus Facebook"
   ]
  },
  {
   "cell_type": "code",
   "execution_count": 55,
   "id": "7c0f4bf9-83b8-4868-98d0-4fde8b076b4f",
   "metadata": {},
   "outputs": [],
   "source": [
    "## OOP unggul untuk membuat sistem data yang terstruktur"
   ]
  },
  {
   "cell_type": "markdown",
   "id": "71f10400-7126-412c-b74d-fa3324e89a3f",
   "metadata": {},
   "source": [
    "## Contoh OOP di Facebook \n",
    "- class User\n",
    "    - attribute: identitas, id_teman, password\n",
    "    - method: buat_thread, buat_komentar, like, ubah_nama, ubah_password, tambah_teman\n",
    "- class thread atau posting\n",
    "    - attribute: pembuat, tanggal_post, isi_post\n",
    "    - method: ubah_post, tambah_komentar, hapus_komentar, like, report, tag_friend \n",
    "\n",
    "- class komentar\n",
    "    - attribute: pembuat, isi_komentar\n",
    "    - method: like, edit_komentar, hapus_komentar, jawab_komentar, tag_orang, tambah_gambar, "
   ]
  },
  {
   "cell_type": "code",
   "execution_count": null,
   "id": "87ebb486-9d16-496e-8b45-7bb68085ef8d",
   "metadata": {},
   "outputs": [],
   "source": []
  }
 ],
 "metadata": {
  "kernelspec": {
   "display_name": "Python 3",
   "language": "python",
   "name": "python3"
  },
  "language_info": {
   "codemirror_mode": {
    "name": "ipython",
    "version": 3
   },
   "file_extension": ".py",
   "mimetype": "text/x-python",
   "name": "python",
   "nbconvert_exporter": "python",
   "pygments_lexer": "ipython3",
   "version": "3.9.6"
  }
 },
 "nbformat": 4,
 "nbformat_minor": 5
}
