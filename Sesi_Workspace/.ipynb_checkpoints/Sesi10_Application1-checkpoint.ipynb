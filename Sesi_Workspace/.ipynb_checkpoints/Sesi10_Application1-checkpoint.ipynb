{
 "cells": [
  {
   "cell_type": "markdown",
   "id": "12823859-b1fb-42f7-8498-4beee4aa728f",
   "metadata": {
    "tags": []
   },
   "source": [
    "# Aplikasi Machine Learning\n",
    "\n",
    "Tantangan penerapan di industri:\n",
    "- Pemahaman user tentang machine learning kurang\n",
    "- Data yang mencukupi, dan karakteristiknya mewakili keseluruhan data\n",
    "- Penentuan parameter metode ML terbaik, \n",
    "- Feature engineering: membuat feature baru dari feature yg terbatas. Di Python ada Feature tools.\n",
    "- Deployment: realiabilitas service. Dask untuk komputer yg performanya rendah. Pyspark kalau perlu speed.\n",
    "- Tugas penerapan ML umumnya sekitar 25%, sisanya tugas preprocessing dan pelaporan\n",
    "\n",
    "Platform buat aplikasi:   \n",
    "- Flutter: (muli device)\n",
    "- Django: Front end Java Script, background python. https://github.com/Mujirin/ml_service_using_django\n",
    "- Svelte: Java Script, (reactive webapp) (update variables nya cepat)\n",
    "- Framer (desain)\n",
    "\n",
    "\n",
    "- HTML5\n",
    "- Django untuk web application"
   ]
  },
  {
   "cell_type": "markdown",
   "id": "6ea241f8-563a-4373-9963-7387de5ba1d6",
   "metadata": {},
   "source": [
    "Untuk ML:\n",
    "\n",
    "    - keras\n",
    "    - tensor flow"
   ]
  },
  {
   "cell_type": "code",
   "execution_count": null,
   "id": "f84ace32-9ea0-4f5f-ae13-38c7c2c7be62",
   "metadata": {},
   "outputs": [],
   "source": []
  }
 ],
 "metadata": {
  "kernelspec": {
   "display_name": "Python 3",
   "language": "python",
   "name": "python3"
  },
  "language_info": {
   "codemirror_mode": {
    "name": "ipython",
    "version": 3
   },
   "file_extension": ".py",
   "mimetype": "text/x-python",
   "name": "python",
   "nbconvert_exporter": "python",
   "pygments_lexer": "ipython3",
   "version": "3.9.6"
  }
 },
 "nbformat": 4,
 "nbformat_minor": 5
}
