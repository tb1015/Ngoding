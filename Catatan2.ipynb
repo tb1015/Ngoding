{
 "cells": [
  {
   "cell_type": "markdown",
   "id": "766d777f-6909-44f1-8855-e25f7e3e88b1",
   "metadata": {},
   "source": [
    "## Tipe Data\n",
    "### Data Numerik"
   ]
  },
  {
   "cell_type": "code",
   "execution_count": 4,
   "id": "15ffdde1",
   "metadata": {},
   "outputs": [
    {
     "data": {
      "text/plain": [
       "4"
      ]
     },
     "execution_count": 4,
     "metadata": {},
     "output_type": "execute_result"
    }
   ],
   "source": [
    "# INTEGER\n",
    "2**2"
   ]
  },
  {
   "cell_type": "code",
   "execution_count": 42,
   "id": "ad774b56",
   "metadata": {},
   "outputs": [],
   "source": [
    "# Penjumlahan INT + FLOAT\n",
    "n = 1 + 1.2"
   ]
  },
  {
   "cell_type": "code",
   "execution_count": 3,
   "id": "5dd79aae",
   "metadata": {},
   "outputs": [
    {
     "data": {
      "text/plain": [
       "float"
      ]
     },
     "execution_count": 3,
     "metadata": {},
     "output_type": "execute_result"
    }
   ],
   "source": [
    "#Check tipe data\n",
    "type(n)"
   ]
  },
  {
   "cell_type": "code",
   "execution_count": 41,
   "id": "3bcc5d9c",
   "metadata": {},
   "outputs": [],
   "source": [
    "# STRING\n",
    "st = \"2.2\""
   ]
  },
  {
   "cell_type": "code",
   "execution_count": 8,
   "id": "20ea304a",
   "metadata": {},
   "outputs": [
    {
     "data": {
      "text/plain": [
       "2"
      ]
     },
     "execution_count": 8,
     "metadata": {},
     "output_type": "execute_result"
    }
   ],
   "source": [
    "# String diubah menjadi int\n",
    "int(float(st))"
   ]
  },
  {
   "cell_type": "code",
   "execution_count": 40,
   "id": "4ec09d47",
   "metadata": {},
   "outputs": [
    {
     "data": {
      "text/plain": [
       "(list, list)"
      ]
     },
     "execution_count": 40,
     "metadata": {},
     "output_type": "execute_result"
    }
   ],
   "source": [
    "# LIST \n",
    "A = [\"a\",\"b\",\"c\"]\n",
    "B = ([\"a\",\"b\",\"c\"])\n",
    "type(A),type(B)"
   ]
  },
  {
   "cell_type": "code",
   "execution_count": 39,
   "id": "b2e70b0d",
   "metadata": {},
   "outputs": [
    {
     "data": {
      "text/plain": [
       "tuple"
      ]
     },
     "execution_count": 39,
     "metadata": {},
     "output_type": "execute_result"
    }
   ],
   "source": [
    "# TUPLE\n",
    "type((type(A), type(B)))"
   ]
  },
  {
   "cell_type": "code",
   "execution_count": 35,
   "id": "fa773da3",
   "metadata": {},
   "outputs": [
    {
     "data": {
      "text/plain": [
       "'b'"
      ]
     },
     "execution_count": 35,
     "metadata": {},
     "output_type": "execute_result"
    }
   ],
   "source": [
    "#List dengan isi berbeda type\n",
    "A = [\"a\",\"b\",2,\"c\"]\n",
    "A[1]"
   ]
  },
  {
   "cell_type": "code",
   "execution_count": 33,
   "id": "8e28b42d",
   "metadata": {},
   "outputs": [
    {
     "data": {
      "text/plain": [
       "[2, 'c']"
      ]
     },
     "execution_count": 33,
     "metadata": {},
     "output_type": "execute_result"
    }
   ],
   "source": [
    "# Mengakses isi list\n",
    "A[2:]"
   ]
  },
  {
   "cell_type": "code",
   "execution_count": 34,
   "id": "d6374f82",
   "metadata": {},
   "outputs": [
    {
     "data": {
      "text/plain": [
       "'c'"
      ]
     },
     "execution_count": 34,
     "metadata": {},
     "output_type": "execute_result"
    }
   ],
   "source": [
    "A[-1]"
   ]
  },
  {
   "cell_type": "code",
   "execution_count": 46,
   "id": "c04ce561",
   "metadata": {},
   "outputs": [],
   "source": [
    "# DICTIONARY: daftar data dengan index custom berupa key\n",
    "D = {\"a\": 1, \"b\": 2}"
   ]
  },
  {
   "cell_type": "code",
   "execution_count": 47,
   "id": "ce8e76a3",
   "metadata": {},
   "outputs": [
    {
     "data": {
      "text/plain": [
       "dict"
      ]
     },
     "execution_count": 47,
     "metadata": {},
     "output_type": "execute_result"
    }
   ],
   "source": [
    "type(D)"
   ]
  },
  {
   "cell_type": "code",
   "execution_count": 49,
   "id": "9b9feb93",
   "metadata": {},
   "outputs": [
    {
     "data": {
      "text/plain": [
       "1"
      ]
     },
     "execution_count": 49,
     "metadata": {},
     "output_type": "execute_result"
    }
   ],
   "source": [
    "# DICTIONARY: mengkases data dengan key index tertentu\n",
    "D[\"a\"]"
   ]
  },
  {
   "cell_type": "code",
   "execution_count": 50,
   "id": "409c213e",
   "metadata": {},
   "outputs": [
    {
     "data": {
      "text/plain": [
       "['a', 'b']"
      ]
     },
     "execution_count": 50,
     "metadata": {},
     "output_type": "execute_result"
    }
   ],
   "source": [
    "# DICTIONARY: mengakses semua keys dan mengubahnya menjadi list\n",
    "list(D.keys())"
   ]
  },
  {
   "cell_type": "code",
   "execution_count": 42,
   "id": "5bba5399",
   "metadata": {},
   "outputs": [
    {
     "data": {
      "text/plain": [
       "dict_values([1, 2])"
      ]
     },
     "execution_count": 42,
     "metadata": {},
     "output_type": "execute_result"
    }
   ],
   "source": [
    "# DICTIONARY: mengakses semua values\n",
    "D.values()"
   ]
  },
  {
   "cell_type": "code",
   "execution_count": 53,
   "id": "4f66f542",
   "metadata": {},
   "outputs": [
    {
     "data": {
      "text/plain": [
       "[1, 2, 3, 4]"
      ]
     },
     "execution_count": 53,
     "metadata": {},
     "output_type": "execute_result"
    }
   ],
   "source": [
    "# LIST: Hasil penjumlahan list adalah penggabungan list\n",
    "[1,2] + [3,4]"
   ]
  },
  {
   "cell_type": "code",
   "execution_count": 54,
   "id": "b5e25f0e",
   "metadata": {},
   "outputs": [
    {
     "data": {
      "text/plain": [
       "[1, 2, 1, 2, 1, 2]"
      ]
     },
     "execution_count": 54,
     "metadata": {},
     "output_type": "execute_result"
    }
   ],
   "source": [
    "# LIST: Hasil perkalian list: duplikasi list\n",
    "[1,2]*3"
   ]
  },
  {
   "cell_type": "code",
   "execution_count": 36,
   "id": "b5e58d54",
   "metadata": {},
   "outputs": [
    {
     "data": {
      "text/plain": [
       "{1, 2, '2', 3}"
      ]
     },
     "execution_count": 36,
     "metadata": {},
     "output_type": "execute_result"
    }
   ],
   "source": [
    "## SET: list yang dapat digunakan dalam operasi gerbang logika\n",
    "S = set([1,2,\"2\",3])\n",
    "S"
   ]
  },
  {
   "cell_type": "code",
   "execution_count": 37,
   "id": "b7627e55",
   "metadata": {},
   "outputs": [
    {
     "data": {
      "text/plain": [
       "set"
      ]
     },
     "execution_count": 37,
     "metadata": {},
     "output_type": "execute_result"
    }
   ],
   "source": [
    "type(S)"
   ]
  },
  {
   "cell_type": "code",
   "execution_count": 55,
   "id": "cebab672",
   "metadata": {},
   "outputs": [
    {
     "data": {
      "text/plain": [
       "{1, 2, '2', 3, '3', 4}"
      ]
     },
     "execution_count": 55,
     "metadata": {},
     "output_type": "execute_result"
    }
   ],
   "source": [
    "# Gerbang logika OR: S OR S1\n",
    "S1 = set ([2,3,\"3\",4])\n",
    "S.union(S1) "
   ]
  },
  {
   "cell_type": "code",
   "execution_count": 56,
   "id": "e5b55282",
   "metadata": {},
   "outputs": [
    {
     "data": {
      "text/plain": [
       "{2, 3}"
      ]
     },
     "execution_count": 56,
     "metadata": {},
     "output_type": "execute_result"
    }
   ],
   "source": [
    "# Gerbang logika AND: S AND S1\n",
    "S.intersection(S1) "
   ]
  },
  {
   "cell_type": "code",
   "execution_count": 57,
   "id": "751649e0",
   "metadata": {},
   "outputs": [
    {
     "name": "stdout",
     "output_type": "stream",
     "text": [
      "0\n",
      "1\n",
      "2\n"
     ]
    }
   ],
   "source": [
    "# For Loop\n",
    "x = [3,2,3]\n",
    "for i,j in enumerate(x):\n",
    "    print(i)"
   ]
  },
  {
   "cell_type": "code",
   "execution_count": 58,
   "id": "f7f6406b",
   "metadata": {},
   "outputs": [
    {
     "name": "stdout",
     "output_type": "stream",
     "text": [
      "0\n",
      "1\n",
      "2\n"
     ]
    }
   ],
   "source": [
    "# For Loop\n",
    "x = [3,2,3]\n",
    "for i in range(len(x)): #range itu membuat list dengan angka urut \n",
    "    print(i)"
   ]
  },
  {
   "cell_type": "code",
   "execution_count": 64,
   "id": "7fd9d56d",
   "metadata": {},
   "outputs": [
    {
     "name": "stdout",
     "output_type": "stream",
     "text": [
      "range(0, 3)\n"
     ]
    }
   ],
   "source": [
    "# Fungsi range: Membuat list dengan nomor berurutan \n",
    "print(range(len(x)))"
   ]
  },
  {
   "cell_type": "code",
   "execution_count": 63,
   "id": "6a6b3a2f",
   "metadata": {},
   "outputs": [
    {
     "data": {
      "text/plain": [
       "[0, 1, 2]"
      ]
     },
     "execution_count": 63,
     "metadata": {},
     "output_type": "execute_result"
    }
   ],
   "source": [
    "list(range(len(x)))"
   ]
  },
  {
   "cell_type": "code",
   "execution_count": 65,
   "id": "324cc4b5",
   "metadata": {},
   "outputs": [
    {
     "name": "stdout",
     "output_type": "stream",
     "text": [
      "True\n"
     ]
    }
   ],
   "source": [
    "# KONDISIONAL IF ELSE\n",
    "if 1<1:\n",
    "    print(False)\n",
    "elif 1>4:\n",
    "    print(False)\n",
    "else:\n",
    "    print(True)"
   ]
  },
  {
   "cell_type": "code",
   "execution_count": 66,
   "id": "fb70540c",
   "metadata": {},
   "outputs": [
    {
     "data": {
      "text/plain": [
       "True"
      ]
     },
     "execution_count": 66,
     "metadata": {},
     "output_type": "execute_result"
    }
   ],
   "source": [
    "# Perbandingan 2 list\n",
    "x == x "
   ]
  },
  {
   "cell_type": "code",
   "execution_count": 67,
   "id": "164269ef",
   "metadata": {},
   "outputs": [
    {
     "name": "stdout",
     "output_type": "stream",
     "text": [
      "1\n",
      "2\n"
     ]
    }
   ],
   "source": [
    "# WHILE LOOP\n",
    "n = 1\n",
    "while n<5: # Selama n<5 adalah benar, maka lakukan:\n",
    "    print(n)\n",
    "    n = n + 1\n",
    "    if n==3:\n",
    "        break # BREAK: Keluar dari loop"
   ]
  },
  {
   "cell_type": "code",
   "execution_count": 69,
   "id": "21892005",
   "metadata": {},
   "outputs": [
    {
     "name": "stdout",
     "output_type": "stream",
     "text": [
      "unsupported operand type(s) for +: 'int' and 'str'\n"
     ]
    }
   ],
   "source": [
    "# Error Catching: Try and Except\n",
    "try:\n",
    "    print(1+\"1\")\n",
    "    \n",
    "except Exception as e: # Exception: untuk menampilkan pesan error\n",
    "    print(e)"
   ]
  },
  {
   "cell_type": "code",
   "execution_count": 70,
   "id": "01a90a4b",
   "metadata": {},
   "outputs": [],
   "source": [
    "# FUNGSI: def fungsi(parameters) --> mendefinisikan fungsi\n",
    "\n",
    "def fu(var_a, var_b):\n",
    "    return var_a + var_b"
   ]
  },
  {
   "cell_type": "code",
   "execution_count": 100,
   "id": "20a58c45",
   "metadata": {},
   "outputs": [
    {
     "data": {
      "text/plain": [
       "3"
      ]
     },
     "execution_count": 100,
     "metadata": {},
     "output_type": "execute_result"
    }
   ],
   "source": [
    "fu(1,2)"
   ]
  },
  {
   "cell_type": "code",
   "execution_count": 101,
   "id": "e18c3ca1",
   "metadata": {},
   "outputs": [
    {
     "ename": "TypeError",
     "evalue": "fu() missing 1 required positional argument: 'var_b'",
     "output_type": "error",
     "traceback": [
      "\u001b[0;31m---------------------------------------------------------------------------\u001b[0m",
      "\u001b[0;31mTypeError\u001b[0m                                 Traceback (most recent call last)",
      "\u001b[0;32m<ipython-input-101-d67631a438b4>\u001b[0m in \u001b[0;36m<module>\u001b[0;34m\u001b[0m\n\u001b[0;32m----> 1\u001b[0;31m \u001b[0mfu\u001b[0m\u001b[0;34m(\u001b[0m\u001b[0;36m1\u001b[0m\u001b[0;34m)\u001b[0m\u001b[0;34m\u001b[0m\u001b[0;34m\u001b[0m\u001b[0m\n\u001b[0m",
      "\u001b[0;31mTypeError\u001b[0m: fu() missing 1 required positional argument: 'var_b'"
     ]
    }
   ],
   "source": [
    "fu(1) #Parameter harus diisi lengkap, kecuali ada nilai default nya"
   ]
  },
  {
   "cell_type": "code",
   "execution_count": 73,
   "id": "2bcb5950",
   "metadata": {},
   "outputs": [],
   "source": [
    "def fu2(var_a, var_b, var_c=3): #Parameter dengan nilai default harus distate paling belakang. Urutan parameter: variable tanpa nilai default, variable dengan nilai default. \n",
    "    x = var_a**var_b + var_c\n",
    "    return x"
   ]
  },
  {
   "cell_type": "code",
   "execution_count": 74,
   "id": "255860bc",
   "metadata": {},
   "outputs": [
    {
     "data": {
      "text/plain": [
       "4"
      ]
     },
     "execution_count": 74,
     "metadata": {},
     "output_type": "execute_result"
    }
   ],
   "source": [
    "fu2(1,2)"
   ]
  },
  {
   "cell_type": "code",
   "execution_count": 116,
   "id": "852cce9e",
   "metadata": {},
   "outputs": [],
   "source": [
    "def fu3(var_a=1, var_b=2, var_c=3): #Dengan memberikan default value, urutan parameter bisa random\n",
    "    x = var_a**var_b + var_c\n",
    "    return x"
   ]
  },
  {
   "cell_type": "code",
   "execution_count": 117,
   "id": "ca335401",
   "metadata": {},
   "outputs": [
    {
     "data": {
      "text/plain": [
       "3"
      ]
     },
     "execution_count": 117,
     "metadata": {},
     "output_type": "execute_result"
    }
   ],
   "source": [
    "fu3(var_c=2, var_b=1) "
   ]
  },
  {
   "cell_type": "code",
   "execution_count": 75,
   "id": "f7b405cc",
   "metadata": {},
   "outputs": [],
   "source": [
    "# Membuat fungsi di dalam fungsi\n",
    "\n",
    "def fu4(var_a=1, var_b=2, var_c=3):\n",
    "    def f0(var_a0):\n",
    "        return var_a0**2\n",
    "    \n",
    "    x = f0(var_a)+var_b + var_c\n",
    "    return x"
   ]
  },
  {
   "cell_type": "code",
   "execution_count": 123,
   "id": "e2f4cfb8",
   "metadata": {},
   "outputs": [
    {
     "data": {
      "text/plain": [
       "9"
      ]
     },
     "execution_count": 123,
     "metadata": {},
     "output_type": "execute_result"
    }
   ],
   "source": [
    "fu4(2,2,3)"
   ]
  },
  {
   "cell_type": "code",
   "execution_count": 78,
   "id": "077cfba5",
   "metadata": {},
   "outputs": [],
   "source": [
    "def fu5(z, var_a=1, var_b=2, var_c=3): #Fungsi dalam fungsi\n",
    "    \"\"\"Fungsi 5: fungsi dengan input parameter yang memiliki default value.\n",
    "    Input: z, var_a, var_b, var_c\n",
    "    Output: \n",
    "    Menguji fungsi di dalam fungsi\n",
    "    \"\"\"\n",
    "    \n",
    "    def f0(var_a0):\n",
    "        \n",
    "        return var_a0**2 + z #variable di luar fungsi\n",
    "    \n",
    "    x = f0(var_a)+var_b + var_c\n",
    "    return x"
   ]
  },
  {
   "cell_type": "code",
   "execution_count": 79,
   "id": "dee82fa5",
   "metadata": {},
   "outputs": [],
   "source": [
    "z = 100"
   ]
  },
  {
   "cell_type": "code",
   "execution_count": 80,
   "id": "1d9d392b",
   "metadata": {},
   "outputs": [
    {
     "data": {
      "text/plain": [
       "7"
      ]
     },
     "execution_count": 80,
     "metadata": {},
     "output_type": "execute_result"
    }
   ],
   "source": [
    "fu5(1,1,2,3)\n",
    "\n",
    "# Catatan: \n",
    "## fungsi dengan variable luar/global secara teknis bisa berjalan. Namun nilai variable ini akan bergantung pada variable di luar fungsi. \n",
    "## Bila nilai variable global tsb berubah, maka fungsi juga akan berubah "
   ]
  },
  {
   "cell_type": "code",
   "execution_count": 81,
   "id": "5ee2d149",
   "metadata": {},
   "outputs": [
    {
     "data": {
      "text/plain": [
       "'\\n    Fungsi 5: variable dengan default value\\n    Input:\\n    Output:\\n    Menguji fungsi di dalam fungsi\\n    '"
      ]
     },
     "execution_count": 81,
     "metadata": {},
     "output_type": "execute_result"
    }
   ],
   "source": [
    "# Menampilkan keterangan/catatan dalam fungsi\n",
    "fu5.__doc__"
   ]
  },
  {
   "cell_type": "markdown",
   "id": "f8f75bb5-194b-4055-bdd2-85fc3593d65b",
   "metadata": {},
   "source": [
    "### Catatan: \n",
    "- Setiap fungsi sebaiknya hanya punya 1 konteks/fungsi, agar mudah modifikasi dan debuging\n",
    "- Fungsi dengan variable luar/global secara teknis bisa berjalan. Namun nilai variable ini akan bergantung pada variable di luar fungsi. Bila nilai variable global tsb berubah, maka fungsi juga akan berubah "
   ]
  },
  {
   "cell_type": "code",
   "execution_count": 122,
   "id": "7cb29a05-7d80-4eff-b01d-6e20ab2426b4",
   "metadata": {},
   "outputs": [],
   "source": [
    "def lingkaran(d,unit=\"m\"):\n",
    "    \"\"\"Fungsi lingkaran() adalah sebuah fungsi untuk menghitung luas dan keliling lingkaran dengan input diameter\"\"\"\n",
    "    def luas():\n",
    "        return 22/7*d**2/4\n",
    "    \n",
    "    def keliling():\n",
    "        return 22/7*d\n",
    "    \n",
    "    print(\"Luas = \"+str(luas())+\" \"+unit+\"², Keliling = \"+str(keliling())+\" \"+unit)\n",
    "    "
   ]
  },
  {
   "cell_type": "code",
   "execution_count": 123,
   "id": "d1242cd8-e7f0-49e9-a69a-a415a5269c37",
   "metadata": {},
   "outputs": [
    {
     "name": "stdout",
     "output_type": "stream",
     "text": [
      "Luas = 3.142857142857143 m², Keliling = 6.285714285714286 m\n"
     ]
    }
   ],
   "source": [
    "lingkaran(2)"
   ]
  },
  {
   "cell_type": "code",
   "execution_count": 124,
   "id": "ce1a16bd-5495-495c-ab7d-894cb7f2ce10",
   "metadata": {},
   "outputs": [
    {
     "data": {
      "text/plain": [
       "'Fungsi lingkaran() adalah sebuah fungsi untuk menghitung luas dan keliling lingkaran dengan input diameter'"
      ]
     },
     "execution_count": 124,
     "metadata": {},
     "output_type": "execute_result"
    }
   ],
   "source": [
    "lingkaran.__doc__"
   ]
  },
  {
   "cell_type": "code",
   "execution_count": null,
   "id": "006be197-9c74-45c0-aa91-e8dff58fedff",
   "metadata": {},
   "outputs": [],
   "source": []
  }
 ],
 "metadata": {
  "kernelspec": {
   "display_name": "Python 3",
   "language": "python",
   "name": "python3"
  },
  "language_info": {
   "codemirror_mode": {
    "name": "ipython",
    "version": 3
   },
   "file_extension": ".py",
   "mimetype": "text/x-python",
   "name": "python",
   "nbconvert_exporter": "python",
   "pygments_lexer": "ipython3",
   "version": "3.9.6"
  }
 },
 "nbformat": 4,
 "nbformat_minor": 5
}
