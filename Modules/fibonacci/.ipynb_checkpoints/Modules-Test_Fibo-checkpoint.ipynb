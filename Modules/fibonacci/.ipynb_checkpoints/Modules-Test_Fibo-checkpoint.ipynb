{
 "cells": [
  {
   "cell_type": "markdown",
   "id": "2dd7df16-2791-4fe4-ae47-3fc21fd909a9",
   "metadata": {},
   "source": [
    "# Modules\n",
    "Source: https://docs.python.org/3/tutorial/modules.html\n",
    "\n",
    "- Module is a Python file, that contains definitions of variables and functions, that can be called or used in a script or an interactive instance of the interpreter by *importing* the module.\n",
    "- A module is a file containing Python definitions and statements. \n",
    "- The file name is the module name with the suffix *.py* appended. \n",
    "- Within a module, the module's name (as a string) is available as the value of the global variable *__name__*\n",
    "\n",
    "The following contents demonstrate how the module *Fibo.py* works"
   ]
  },
  {
   "cell_type": "code",
   "execution_count": 4,
   "id": "01dabfef-5446-4596-bb0d-0758466f8fae",
   "metadata": {},
   "outputs": [],
   "source": [
    "# Importing the module Fibo\n",
    "import Fibo"
   ]
  },
  {
   "cell_type": "code",
   "execution_count": 5,
   "id": "f851d994-293e-46e2-acd2-d8ece36e8360",
   "metadata": {},
   "outputs": [
    {
     "data": {
      "text/plain": [
       "'Fibo'"
      ]
     },
     "execution_count": 5,
     "metadata": {},
     "output_type": "execute_result"
    }
   ],
   "source": [
    "# Accessing the module name\n",
    "Fibo.__name__"
   ]
  },
  {
   "cell_type": "code",
   "execution_count": 6,
   "id": "c8513e39-f536-48ec-9f7b-5622cd110c91",
   "metadata": {},
   "outputs": [
    {
     "name": "stdout",
     "output_type": "stream",
     "text": [
      "0 1 1 2 3 5 8 13 21 34 55 89 144 233 377 610 987 \n"
     ]
    }
   ],
   "source": [
    "# Using functions available in Fibo module\n",
    "\n",
    "Fibo.fib(1000)"
   ]
  },
  {
   "cell_type": "code",
   "execution_count": 7,
   "id": "1a33ce97-c91b-4ba8-ab1e-b1a04a445bc9",
   "metadata": {},
   "outputs": [
    {
     "data": {
      "text/plain": [
       "[0, 1, 1, 2, 3, 5, 8, 13, 21, 34, 55, 89, 144, 233, 377, 610, 987]"
      ]
     },
     "execution_count": 7,
     "metadata": {},
     "output_type": "execute_result"
    }
   ],
   "source": [
    "Fibo.fib2(1000)"
   ]
  },
  {
   "cell_type": "code",
   "execution_count": 9,
   "id": "c317c2ef-8bef-4b8c-9e0e-fb1af2bffad3",
   "metadata": {},
   "outputs": [
    {
     "name": "stdout",
     "output_type": "stream",
     "text": [
      "0 1 1 2 3 5 8 13 21 34 55 89 144 233 377 \n"
     ]
    }
   ],
   "source": [
    "# Generating a shortcut for function Fibo.fib\n",
    "fib = Fibo.fib\n",
    "fib(500)"
   ]
  },
  {
   "cell_type": "code",
   "execution_count": 10,
   "id": "b7c33993-ca25-4161-b99d-5b3e182b2b14",
   "metadata": {},
   "outputs": [
    {
     "name": "stdout",
     "output_type": "stream",
     "text": [
      "0 1 1 2 3 5 8 13 21 34 55 89 144 233 377 \n"
     ]
    }
   ],
   "source": [
    "# or alternatively\n",
    "from Fibo import fib as fb\n",
    "fb(500)"
   ]
  },
  {
   "cell_type": "markdown",
   "id": "cb85322d-a4f6-41b1-9372-44f3dfe8044e",
   "metadata": {},
   "source": [
    "Fibo module can be run as a script by adding the following code into Fibo.py: \n",
    "\n",
    "```if __name__ == \"__main__\"```\n",
    "\n",
    "```import sys```\n",
    "\n",
    "```fib(int(sys.argv[1]))```\n",
    "\n",
    "Afterwards, write ```python Fibo.py 50``` in the terminal."
   ]
  },
  {
   "cell_type": "code",
   "execution_count": 11,
   "id": "f01b29d5-7d4d-46ed-97a5-3a89dc9654c5",
   "metadata": {},
   "outputs": [
    {
     "data": {
      "text/plain": [
       "['__builtins__',\n",
       " '__cached__',\n",
       " '__doc__',\n",
       " '__file__',\n",
       " '__loader__',\n",
       " '__name__',\n",
       " '__package__',\n",
       " '__spec__',\n",
       " 'fib',\n",
       " 'fib2']"
      ]
     },
     "execution_count": 11,
     "metadata": {},
     "output_type": "execute_result"
    }
   ],
   "source": [
    "dir(Fibo)"
   ]
  },
  {
   "cell_type": "code",
   "execution_count": null,
   "id": "9a64b014-aa9b-4841-a954-8703558cc9ae",
   "metadata": {},
   "outputs": [],
   "source": []
  }
 ],
 "metadata": {
  "kernelspec": {
   "display_name": "Python 3.7.3 64-bit ('fenicsproject': conda)",
   "language": "python",
   "name": "python37364bitfenicsprojectconda315a4d27702542ec96b44b08c4fb67dc"
  },
  "language_info": {
   "codemirror_mode": {
    "name": "ipython",
    "version": 3
   },
   "file_extension": ".py",
   "mimetype": "text/x-python",
   "name": "python",
   "nbconvert_exporter": "python",
   "pygments_lexer": "ipython3",
   "version": "3.7.3"
  }
 },
 "nbformat": 4,
 "nbformat_minor": 5
}
